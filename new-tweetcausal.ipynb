{
 "cells": [
  {
   "cell_type": "code",
   "execution_count": 1,
   "id": "b0d9aa4d",
   "metadata": {
    "_cell_guid": "b1076dfc-b9ad-4769-8c92-a6c4dae69d19",
    "_uuid": "8f2839f25d086af736a60e9eeb907d3b93b6e0e5",
    "execution": {
     "iopub.execute_input": "2022-11-27T23:21:59.859275Z",
     "iopub.status.busy": "2022-11-27T23:21:59.858309Z",
     "iopub.status.idle": "2022-11-27T23:21:59.879031Z",
     "shell.execute_reply": "2022-11-27T23:21:59.877910Z"
    },
    "papermill": {
     "duration": 0.044709,
     "end_time": "2022-11-27T23:21:59.882511",
     "exception": false,
     "start_time": "2022-11-27T23:21:59.837802",
     "status": "completed"
    },
    "tags": []
   },
   "outputs": [
    {
     "name": "stdout",
     "output_type": "stream",
     "text": [
      "/kaggle/input/deptweets/happyish_tweets.paraquet\n",
      "/kaggle/input/deptweets/sad_tweets.paraquet\n"
     ]
    }
   ],
   "source": [
    "# This Python 3 environment comes with many helpful analytics libraries installed\n",
    "# It is defined by the kaggle/python Docker image: https://github.com/kaggle/docker-python\n",
    "# For example, here's several helpful packages to load\n",
    "\n",
    "import numpy as np # linear algebra\n",
    "import pandas as pd # data processing, CSV file I/O (e.g. pd.read_csv)\n",
    "\n",
    "# Input data files are available in the read-only \"../input/\" directory\n",
    "# For example, running this (by clicking run or pressing Shift+Enter) will list all files under the input directory\n",
    "\n",
    "import os\n",
    "for dirname, _, filenames in os.walk('/kaggle/input'):\n",
    "    for filename in filenames:\n",
    "        print(os.path.join(dirname, filename))\n",
    "\n",
    "# You can write up to 20GB to the current directory (/kaggle/working/) that gets preserved as output when you create a version using \"Save & Run All\" \n",
    "# You can also write temporary files to /kaggle/temp/, but they won't be saved outside of the current session"
   ]
  },
  {
   "cell_type": "code",
   "execution_count": 2,
   "id": "7a66bf37",
   "metadata": {
    "execution": {
     "iopub.execute_input": "2022-11-27T23:21:59.915829Z",
     "iopub.status.busy": "2022-11-27T23:21:59.915106Z",
     "iopub.status.idle": "2022-11-27T23:21:59.920317Z",
     "shell.execute_reply": "2022-11-27T23:21:59.919443Z"
    },
    "papermill": {
     "duration": 0.023541,
     "end_time": "2022-11-27T23:21:59.922379",
     "exception": false,
     "start_time": "2022-11-27T23:21:59.898838",
     "status": "completed"
    },
    "tags": []
   },
   "outputs": [],
   "source": [
    "import pandas as pd"
   ]
  },
  {
   "cell_type": "code",
   "execution_count": 3,
   "id": "31308424",
   "metadata": {
    "execution": {
     "iopub.execute_input": "2022-11-27T23:21:59.953752Z",
     "iopub.status.busy": "2022-11-27T23:21:59.953439Z",
     "iopub.status.idle": "2022-11-27T23:22:00.168555Z",
     "shell.execute_reply": "2022-11-27T23:22:00.167725Z"
    },
    "papermill": {
     "duration": 0.233762,
     "end_time": "2022-11-27T23:22:00.171002",
     "exception": false,
     "start_time": "2022-11-27T23:21:59.937240",
     "status": "completed"
    },
    "tags": []
   },
   "outputs": [],
   "source": [
    "df_h = pd.read_parquet('/kaggle/input/deptweets/happyish_tweets.paraquet')\n",
    "df_s = pd.read_parquet('/kaggle/input/deptweets/sad_tweets.paraquet')"
   ]
  },
  {
   "cell_type": "code",
   "execution_count": 4,
   "id": "a3857bf3",
   "metadata": {
    "execution": {
     "iopub.execute_input": "2022-11-27T23:22:00.203453Z",
     "iopub.status.busy": "2022-11-27T23:22:00.202775Z",
     "iopub.status.idle": "2022-11-27T23:22:00.223819Z",
     "shell.execute_reply": "2022-11-27T23:22:00.222728Z"
    },
    "papermill": {
     "duration": 0.039873,
     "end_time": "2022-11-27T23:22:00.225887",
     "exception": false,
     "start_time": "2022-11-27T23:22:00.186014",
     "status": "completed"
    },
    "tags": []
   },
   "outputs": [
    {
     "data": {
      "text/html": [
       "<div>\n",
       "<style scoped>\n",
       "    .dataframe tbody tr th:only-of-type {\n",
       "        vertical-align: middle;\n",
       "    }\n",
       "\n",
       "    .dataframe tbody tr th {\n",
       "        vertical-align: top;\n",
       "    }\n",
       "\n",
       "    .dataframe thead th {\n",
       "        text-align: right;\n",
       "    }\n",
       "</style>\n",
       "<table border=\"1\" class=\"dataframe\">\n",
       "  <thead>\n",
       "    <tr style=\"text-align: right;\">\n",
       "      <th></th>\n",
       "      <th>created_at</th>\n",
       "      <th>text</th>\n",
       "      <th>edit_history_tweet_ids</th>\n",
       "      <th>author_id</th>\n",
       "      <th>id</th>\n",
       "      <th>public_metrics.retweet_count</th>\n",
       "      <th>public_metrics.reply_count</th>\n",
       "      <th>public_metrics.like_count</th>\n",
       "      <th>public_metrics.quote_count</th>\n",
       "      <th>labels</th>\n",
       "    </tr>\n",
       "  </thead>\n",
       "  <tbody>\n",
       "    <tr>\n",
       "      <th>0</th>\n",
       "      <td>2022-11-12T21:39:37.000Z</td>\n",
       "      <td>Canadian doctors offices will now be using noo...</td>\n",
       "      <td>[1591546280706473984]</td>\n",
       "      <td>2236687190</td>\n",
       "      <td>1591546280706473984</td>\n",
       "      <td>0</td>\n",
       "      <td>0</td>\n",
       "      <td>0</td>\n",
       "      <td>0</td>\n",
       "      <td>0</td>\n",
       "    </tr>\n",
       "    <tr>\n",
       "      <th>1</th>\n",
       "      <td>2022-11-12T21:34:22.000Z</td>\n",
       "      <td>Canadian doctor  Okay  based on your answers I...</td>\n",
       "      <td>[1591544958934482944]</td>\n",
       "      <td>2236687190</td>\n",
       "      <td>1591544958934482944</td>\n",
       "      <td>0</td>\n",
       "      <td>0</td>\n",
       "      <td>0</td>\n",
       "      <td>0</td>\n",
       "      <td>1</td>\n",
       "    </tr>\n",
       "    <tr>\n",
       "      <th>2</th>\n",
       "      <td>2022-11-12T21:28:18.000Z</td>\n",
       "      <td>You WILL get in the pod  you WILL breathe the ...</td>\n",
       "      <td>[1591543433092792320]</td>\n",
       "      <td>2236687190</td>\n",
       "      <td>1591543433092792320</td>\n",
       "      <td>0</td>\n",
       "      <td>0</td>\n",
       "      <td>0</td>\n",
       "      <td>0</td>\n",
       "      <td>1</td>\n",
       "    </tr>\n",
       "    <tr>\n",
       "      <th>3</th>\n",
       "      <td>2022-11-12T21:16:26.000Z</td>\n",
       "      <td>DMs are open 💕</td>\n",
       "      <td>[1591540446907760641]</td>\n",
       "      <td>2236687190</td>\n",
       "      <td>1591540446907760641</td>\n",
       "      <td>0</td>\n",
       "      <td>0</td>\n",
       "      <td>0</td>\n",
       "      <td>0</td>\n",
       "      <td>0</td>\n",
       "    </tr>\n",
       "    <tr>\n",
       "      <th>4</th>\n",
       "      <td>2022-11-12T02:29:51.000Z</td>\n",
       "      <td>NASA wants to send aliens our cocks</td>\n",
       "      <td>[1591256932358422529]</td>\n",
       "      <td>2236687190</td>\n",
       "      <td>1591256932358422529</td>\n",
       "      <td>0</td>\n",
       "      <td>0</td>\n",
       "      <td>0</td>\n",
       "      <td>0</td>\n",
       "      <td>0</td>\n",
       "    </tr>\n",
       "  </tbody>\n",
       "</table>\n",
       "</div>"
      ],
      "text/plain": [
       "                 created_at  \\\n",
       "0  2022-11-12T21:39:37.000Z   \n",
       "1  2022-11-12T21:34:22.000Z   \n",
       "2  2022-11-12T21:28:18.000Z   \n",
       "3  2022-11-12T21:16:26.000Z   \n",
       "4  2022-11-12T02:29:51.000Z   \n",
       "\n",
       "                                                text edit_history_tweet_ids  \\\n",
       "0  Canadian doctors offices will now be using noo...  [1591546280706473984]   \n",
       "1  Canadian doctor  Okay  based on your answers I...  [1591544958934482944]   \n",
       "2  You WILL get in the pod  you WILL breathe the ...  [1591543433092792320]   \n",
       "3                                     DMs are open 💕  [1591540446907760641]   \n",
       "4                NASA wants to send aliens our cocks  [1591256932358422529]   \n",
       "\n",
       "    author_id                   id  public_metrics.retweet_count  \\\n",
       "0  2236687190  1591546280706473984                             0   \n",
       "1  2236687190  1591544958934482944                             0   \n",
       "2  2236687190  1591543433092792320                             0   \n",
       "3  2236687190  1591540446907760641                             0   \n",
       "4  2236687190  1591256932358422529                             0   \n",
       "\n",
       "   public_metrics.reply_count  public_metrics.like_count  \\\n",
       "0                           0                          0   \n",
       "1                           0                          0   \n",
       "2                           0                          0   \n",
       "3                           0                          0   \n",
       "4                           0                          0   \n",
       "\n",
       "   public_metrics.quote_count  labels  \n",
       "0                           0       0  \n",
       "1                           0       1  \n",
       "2                           0       1  \n",
       "3                           0       0  \n",
       "4                           0       0  "
      ]
     },
     "execution_count": 4,
     "metadata": {},
     "output_type": "execute_result"
    }
   ],
   "source": [
    "df_h.head()"
   ]
  },
  {
   "cell_type": "code",
   "execution_count": 5,
   "id": "a26b99eb",
   "metadata": {
    "execution": {
     "iopub.execute_input": "2022-11-27T23:22:00.258904Z",
     "iopub.status.busy": "2022-11-27T23:22:00.258350Z",
     "iopub.status.idle": "2022-11-27T23:22:00.273800Z",
     "shell.execute_reply": "2022-11-27T23:22:00.273083Z"
    },
    "papermill": {
     "duration": 0.034144,
     "end_time": "2022-11-27T23:22:00.275704",
     "exception": false,
     "start_time": "2022-11-27T23:22:00.241560",
     "status": "completed"
    },
    "tags": []
   },
   "outputs": [
    {
     "data": {
      "text/html": [
       "<div>\n",
       "<style scoped>\n",
       "    .dataframe tbody tr th:only-of-type {\n",
       "        vertical-align: middle;\n",
       "    }\n",
       "\n",
       "    .dataframe tbody tr th {\n",
       "        vertical-align: top;\n",
       "    }\n",
       "\n",
       "    .dataframe thead th {\n",
       "        text-align: right;\n",
       "    }\n",
       "</style>\n",
       "<table border=\"1\" class=\"dataframe\">\n",
       "  <thead>\n",
       "    <tr style=\"text-align: right;\">\n",
       "      <th></th>\n",
       "      <th>created_at</th>\n",
       "      <th>text</th>\n",
       "      <th>edit_history_tweet_ids</th>\n",
       "      <th>author_id</th>\n",
       "      <th>id</th>\n",
       "      <th>public_metrics.retweet_count</th>\n",
       "      <th>public_metrics.reply_count</th>\n",
       "      <th>public_metrics.like_count</th>\n",
       "      <th>public_metrics.quote_count</th>\n",
       "      <th>withheld.copyright</th>\n",
       "      <th>withheld.country_codes</th>\n",
       "      <th>labels</th>\n",
       "    </tr>\n",
       "  </thead>\n",
       "  <tbody>\n",
       "    <tr>\n",
       "      <th>0</th>\n",
       "      <td>2022-11-20T18:13:36.000Z</td>\n",
       "      <td>i was diagnosed with BPD at 15 then at 21 recl...</td>\n",
       "      <td>[1594393536899780612]</td>\n",
       "      <td>3206788973</td>\n",
       "      <td>1594393536899780612</td>\n",
       "      <td>0</td>\n",
       "      <td>0</td>\n",
       "      <td>9</td>\n",
       "      <td>0</td>\n",
       "      <td>None</td>\n",
       "      <td>None</td>\n",
       "      <td>1</td>\n",
       "    </tr>\n",
       "    <tr>\n",
       "      <th>1</th>\n",
       "      <td>2022-11-20T18:11:41.000Z</td>\n",
       "      <td>im having a very bad PTSD day  sometimes we ha...</td>\n",
       "      <td>[1594393054001172484]</td>\n",
       "      <td>3206788973</td>\n",
       "      <td>1594393054001172484</td>\n",
       "      <td>1</td>\n",
       "      <td>4</td>\n",
       "      <td>14</td>\n",
       "      <td>0</td>\n",
       "      <td>None</td>\n",
       "      <td>None</td>\n",
       "      <td>1</td>\n",
       "    </tr>\n",
       "    <tr>\n",
       "      <th>2</th>\n",
       "      <td>2022-11-20T14:01:20.000Z</td>\n",
       "      <td>I m in the control room ☎️</td>\n",
       "      <td>[1594330054724550656]</td>\n",
       "      <td>3206788973</td>\n",
       "      <td>1594330054724550656</td>\n",
       "      <td>0</td>\n",
       "      <td>1</td>\n",
       "      <td>1</td>\n",
       "      <td>0</td>\n",
       "      <td>None</td>\n",
       "      <td>None</td>\n",
       "      <td>0</td>\n",
       "    </tr>\n",
       "    <tr>\n",
       "      <th>3</th>\n",
       "      <td>2022-11-20T13:42:48.000Z</td>\n",
       "      <td>gotta say the sunset in Abu Dhabi is beautiful 😎</td>\n",
       "      <td>[1594325387068248064]</td>\n",
       "      <td>3206788973</td>\n",
       "      <td>1594325387068248064</td>\n",
       "      <td>0</td>\n",
       "      <td>1</td>\n",
       "      <td>8</td>\n",
       "      <td>0</td>\n",
       "      <td>None</td>\n",
       "      <td>None</td>\n",
       "      <td>0</td>\n",
       "    </tr>\n",
       "    <tr>\n",
       "      <th>4</th>\n",
       "      <td>2022-11-20T10:50:32.000Z</td>\n",
       "      <td>The Birmingham one we don t live too far away 😁</td>\n",
       "      <td>[1594282034800693248]</td>\n",
       "      <td>3206788973</td>\n",
       "      <td>1594282034800693248</td>\n",
       "      <td>0</td>\n",
       "      <td>1</td>\n",
       "      <td>1</td>\n",
       "      <td>0</td>\n",
       "      <td>None</td>\n",
       "      <td>None</td>\n",
       "      <td>0</td>\n",
       "    </tr>\n",
       "  </tbody>\n",
       "</table>\n",
       "</div>"
      ],
      "text/plain": [
       "                 created_at  \\\n",
       "0  2022-11-20T18:13:36.000Z   \n",
       "1  2022-11-20T18:11:41.000Z   \n",
       "2  2022-11-20T14:01:20.000Z   \n",
       "3  2022-11-20T13:42:48.000Z   \n",
       "4  2022-11-20T10:50:32.000Z   \n",
       "\n",
       "                                                text edit_history_tweet_ids  \\\n",
       "0  i was diagnosed with BPD at 15 then at 21 recl...  [1594393536899780612]   \n",
       "1  im having a very bad PTSD day  sometimes we ha...  [1594393054001172484]   \n",
       "2                         I m in the control room ☎️  [1594330054724550656]   \n",
       "3   gotta say the sunset in Abu Dhabi is beautiful 😎  [1594325387068248064]   \n",
       "4    The Birmingham one we don t live too far away 😁  [1594282034800693248]   \n",
       "\n",
       "    author_id                   id  public_metrics.retweet_count  \\\n",
       "0  3206788973  1594393536899780612                             0   \n",
       "1  3206788973  1594393054001172484                             1   \n",
       "2  3206788973  1594330054724550656                             0   \n",
       "3  3206788973  1594325387068248064                             0   \n",
       "4  3206788973  1594282034800693248                             0   \n",
       "\n",
       "   public_metrics.reply_count  public_metrics.like_count  \\\n",
       "0                           0                          9   \n",
       "1                           4                         14   \n",
       "2                           1                          1   \n",
       "3                           1                          8   \n",
       "4                           1                          1   \n",
       "\n",
       "   public_metrics.quote_count withheld.copyright withheld.country_codes  \\\n",
       "0                           0               None                   None   \n",
       "1                           0               None                   None   \n",
       "2                           0               None                   None   \n",
       "3                           0               None                   None   \n",
       "4                           0               None                   None   \n",
       "\n",
       "   labels  \n",
       "0       1  \n",
       "1       1  \n",
       "2       0  \n",
       "3       0  \n",
       "4       0  "
      ]
     },
     "execution_count": 5,
     "metadata": {},
     "output_type": "execute_result"
    }
   ],
   "source": [
    "df_s.head()"
   ]
  },
  {
   "cell_type": "code",
   "execution_count": 6,
   "id": "c85bc3b6",
   "metadata": {
    "execution": {
     "iopub.execute_input": "2022-11-27T23:22:00.308741Z",
     "iopub.status.busy": "2022-11-27T23:22:00.308239Z",
     "iopub.status.idle": "2022-11-27T23:22:00.345761Z",
     "shell.execute_reply": "2022-11-27T23:22:00.344696Z"
    },
    "papermill": {
     "duration": 0.056923,
     "end_time": "2022-11-27T23:22:00.348350",
     "exception": false,
     "start_time": "2022-11-27T23:22:00.291427",
     "status": "completed"
    },
    "tags": []
   },
   "outputs": [],
   "source": [
    "df_s['date']= pd.to_datetime(df_s['created_at']).dt.date\n",
    "df_s['time']= pd.to_datetime(df_s['created_at']).dt.time\n",
    "df_s['tweet_length'] = df_s['text'].apply(len)"
   ]
  },
  {
   "cell_type": "code",
   "execution_count": 7,
   "id": "299fbde1",
   "metadata": {
    "execution": {
     "iopub.execute_input": "2022-11-27T23:22:00.388885Z",
     "iopub.status.busy": "2022-11-27T23:22:00.387851Z",
     "iopub.status.idle": "2022-11-27T23:22:00.426882Z",
     "shell.execute_reply": "2022-11-27T23:22:00.425460Z"
    },
    "papermill": {
     "duration": 0.064994,
     "end_time": "2022-11-27T23:22:00.429541",
     "exception": false,
     "start_time": "2022-11-27T23:22:00.364547",
     "status": "completed"
    },
    "tags": []
   },
   "outputs": [],
   "source": [
    "df_h['date']= pd.to_datetime(df_h['created_at']).dt.date\n",
    "df_h['time']= pd.to_datetime(df_h['created_at']).dt.time\n",
    "df_h['tweet_length'] = df_h['text'].apply(len)"
   ]
  },
  {
   "cell_type": "code",
   "execution_count": 8,
   "id": "a599272b",
   "metadata": {
    "execution": {
     "iopub.execute_input": "2022-11-27T23:22:00.463637Z",
     "iopub.status.busy": "2022-11-27T23:22:00.462944Z",
     "iopub.status.idle": "2022-11-27T23:22:00.479843Z",
     "shell.execute_reply": "2022-11-27T23:22:00.478967Z"
    },
    "papermill": {
     "duration": 0.036384,
     "end_time": "2022-11-27T23:22:00.481957",
     "exception": false,
     "start_time": "2022-11-27T23:22:00.445573",
     "status": "completed"
    },
    "tags": []
   },
   "outputs": [
    {
     "data": {
      "text/html": [
       "<div>\n",
       "<style scoped>\n",
       "    .dataframe tbody tr th:only-of-type {\n",
       "        vertical-align: middle;\n",
       "    }\n",
       "\n",
       "    .dataframe tbody tr th {\n",
       "        vertical-align: top;\n",
       "    }\n",
       "\n",
       "    .dataframe thead th {\n",
       "        text-align: right;\n",
       "    }\n",
       "</style>\n",
       "<table border=\"1\" class=\"dataframe\">\n",
       "  <thead>\n",
       "    <tr style=\"text-align: right;\">\n",
       "      <th></th>\n",
       "      <th>created_at</th>\n",
       "      <th>text</th>\n",
       "      <th>edit_history_tweet_ids</th>\n",
       "      <th>author_id</th>\n",
       "      <th>id</th>\n",
       "      <th>public_metrics.retweet_count</th>\n",
       "      <th>public_metrics.reply_count</th>\n",
       "      <th>public_metrics.like_count</th>\n",
       "      <th>public_metrics.quote_count</th>\n",
       "      <th>labels</th>\n",
       "      <th>date</th>\n",
       "      <th>time</th>\n",
       "      <th>tweet_length</th>\n",
       "    </tr>\n",
       "  </thead>\n",
       "  <tbody>\n",
       "    <tr>\n",
       "      <th>0</th>\n",
       "      <td>2022-11-12T21:39:37.000Z</td>\n",
       "      <td>Canadian doctors offices will now be using noo...</td>\n",
       "      <td>[1591546280706473984]</td>\n",
       "      <td>2236687190</td>\n",
       "      <td>1591546280706473984</td>\n",
       "      <td>0</td>\n",
       "      <td>0</td>\n",
       "      <td>0</td>\n",
       "      <td>0</td>\n",
       "      <td>0</td>\n",
       "      <td>2022-11-12</td>\n",
       "      <td>21:39:37</td>\n",
       "      <td>92</td>\n",
       "    </tr>\n",
       "    <tr>\n",
       "      <th>1</th>\n",
       "      <td>2022-11-12T21:34:22.000Z</td>\n",
       "      <td>Canadian doctor  Okay  based on your answers I...</td>\n",
       "      <td>[1591544958934482944]</td>\n",
       "      <td>2236687190</td>\n",
       "      <td>1591544958934482944</td>\n",
       "      <td>0</td>\n",
       "      <td>0</td>\n",
       "      <td>0</td>\n",
       "      <td>0</td>\n",
       "      <td>1</td>\n",
       "      <td>2022-11-12</td>\n",
       "      <td>21:34:22</td>\n",
       "      <td>202</td>\n",
       "    </tr>\n",
       "    <tr>\n",
       "      <th>2</th>\n",
       "      <td>2022-11-12T21:28:18.000Z</td>\n",
       "      <td>You WILL get in the pod  you WILL breathe the ...</td>\n",
       "      <td>[1591543433092792320]</td>\n",
       "      <td>2236687190</td>\n",
       "      <td>1591543433092792320</td>\n",
       "      <td>0</td>\n",
       "      <td>0</td>\n",
       "      <td>0</td>\n",
       "      <td>0</td>\n",
       "      <td>1</td>\n",
       "      <td>2022-11-12</td>\n",
       "      <td>21:28:18</td>\n",
       "      <td>135</td>\n",
       "    </tr>\n",
       "    <tr>\n",
       "      <th>3</th>\n",
       "      <td>2022-11-12T21:16:26.000Z</td>\n",
       "      <td>DMs are open 💕</td>\n",
       "      <td>[1591540446907760641]</td>\n",
       "      <td>2236687190</td>\n",
       "      <td>1591540446907760641</td>\n",
       "      <td>0</td>\n",
       "      <td>0</td>\n",
       "      <td>0</td>\n",
       "      <td>0</td>\n",
       "      <td>0</td>\n",
       "      <td>2022-11-12</td>\n",
       "      <td>21:16:26</td>\n",
       "      <td>14</td>\n",
       "    </tr>\n",
       "    <tr>\n",
       "      <th>4</th>\n",
       "      <td>2022-11-12T02:29:51.000Z</td>\n",
       "      <td>NASA wants to send aliens our cocks</td>\n",
       "      <td>[1591256932358422529]</td>\n",
       "      <td>2236687190</td>\n",
       "      <td>1591256932358422529</td>\n",
       "      <td>0</td>\n",
       "      <td>0</td>\n",
       "      <td>0</td>\n",
       "      <td>0</td>\n",
       "      <td>0</td>\n",
       "      <td>2022-11-12</td>\n",
       "      <td>02:29:51</td>\n",
       "      <td>35</td>\n",
       "    </tr>\n",
       "  </tbody>\n",
       "</table>\n",
       "</div>"
      ],
      "text/plain": [
       "                 created_at  \\\n",
       "0  2022-11-12T21:39:37.000Z   \n",
       "1  2022-11-12T21:34:22.000Z   \n",
       "2  2022-11-12T21:28:18.000Z   \n",
       "3  2022-11-12T21:16:26.000Z   \n",
       "4  2022-11-12T02:29:51.000Z   \n",
       "\n",
       "                                                text edit_history_tweet_ids  \\\n",
       "0  Canadian doctors offices will now be using noo...  [1591546280706473984]   \n",
       "1  Canadian doctor  Okay  based on your answers I...  [1591544958934482944]   \n",
       "2  You WILL get in the pod  you WILL breathe the ...  [1591543433092792320]   \n",
       "3                                     DMs are open 💕  [1591540446907760641]   \n",
       "4                NASA wants to send aliens our cocks  [1591256932358422529]   \n",
       "\n",
       "    author_id                   id  public_metrics.retweet_count  \\\n",
       "0  2236687190  1591546280706473984                             0   \n",
       "1  2236687190  1591544958934482944                             0   \n",
       "2  2236687190  1591543433092792320                             0   \n",
       "3  2236687190  1591540446907760641                             0   \n",
       "4  2236687190  1591256932358422529                             0   \n",
       "\n",
       "   public_metrics.reply_count  public_metrics.like_count  \\\n",
       "0                           0                          0   \n",
       "1                           0                          0   \n",
       "2                           0                          0   \n",
       "3                           0                          0   \n",
       "4                           0                          0   \n",
       "\n",
       "   public_metrics.quote_count  labels        date      time  tweet_length  \n",
       "0                           0       0  2022-11-12  21:39:37            92  \n",
       "1                           0       1  2022-11-12  21:34:22           202  \n",
       "2                           0       1  2022-11-12  21:28:18           135  \n",
       "3                           0       0  2022-11-12  21:16:26            14  \n",
       "4                           0       0  2022-11-12  02:29:51            35  "
      ]
     },
     "execution_count": 8,
     "metadata": {},
     "output_type": "execute_result"
    }
   ],
   "source": [
    "df_h.head()"
   ]
  },
  {
   "cell_type": "code",
   "execution_count": 9,
   "id": "935f1c86",
   "metadata": {
    "execution": {
     "iopub.execute_input": "2022-11-27T23:22:00.522886Z",
     "iopub.status.busy": "2022-11-27T23:22:00.522136Z",
     "iopub.status.idle": "2022-11-27T23:22:00.544865Z",
     "shell.execute_reply": "2022-11-27T23:22:00.543898Z"
    },
    "papermill": {
     "duration": 0.04866,
     "end_time": "2022-11-27T23:22:00.546944",
     "exception": false,
     "start_time": "2022-11-27T23:22:00.498284",
     "status": "completed"
    },
    "tags": []
   },
   "outputs": [
    {
     "data": {
      "text/html": [
       "<div>\n",
       "<style scoped>\n",
       "    .dataframe tbody tr th:only-of-type {\n",
       "        vertical-align: middle;\n",
       "    }\n",
       "\n",
       "    .dataframe tbody tr th {\n",
       "        vertical-align: top;\n",
       "    }\n",
       "\n",
       "    .dataframe thead th {\n",
       "        text-align: right;\n",
       "    }\n",
       "</style>\n",
       "<table border=\"1\" class=\"dataframe\">\n",
       "  <thead>\n",
       "    <tr style=\"text-align: right;\">\n",
       "      <th></th>\n",
       "      <th>created_at</th>\n",
       "      <th>text</th>\n",
       "      <th>edit_history_tweet_ids</th>\n",
       "      <th>author_id</th>\n",
       "      <th>id</th>\n",
       "      <th>public_metrics.retweet_count</th>\n",
       "      <th>public_metrics.reply_count</th>\n",
       "      <th>public_metrics.like_count</th>\n",
       "      <th>public_metrics.quote_count</th>\n",
       "      <th>withheld.copyright</th>\n",
       "      <th>withheld.country_codes</th>\n",
       "      <th>labels</th>\n",
       "      <th>date</th>\n",
       "      <th>time</th>\n",
       "      <th>tweet_length</th>\n",
       "    </tr>\n",
       "  </thead>\n",
       "  <tbody>\n",
       "    <tr>\n",
       "      <th>0</th>\n",
       "      <td>2022-11-20T18:13:36.000Z</td>\n",
       "      <td>i was diagnosed with BPD at 15 then at 21 recl...</td>\n",
       "      <td>[1594393536899780612]</td>\n",
       "      <td>3206788973</td>\n",
       "      <td>1594393536899780612</td>\n",
       "      <td>0</td>\n",
       "      <td>0</td>\n",
       "      <td>9</td>\n",
       "      <td>0</td>\n",
       "      <td>None</td>\n",
       "      <td>None</td>\n",
       "      <td>1</td>\n",
       "      <td>2022-11-20</td>\n",
       "      <td>18:13:36</td>\n",
       "      <td>275</td>\n",
       "    </tr>\n",
       "    <tr>\n",
       "      <th>1</th>\n",
       "      <td>2022-11-20T18:11:41.000Z</td>\n",
       "      <td>im having a very bad PTSD day  sometimes we ha...</td>\n",
       "      <td>[1594393054001172484]</td>\n",
       "      <td>3206788973</td>\n",
       "      <td>1594393054001172484</td>\n",
       "      <td>1</td>\n",
       "      <td>4</td>\n",
       "      <td>14</td>\n",
       "      <td>0</td>\n",
       "      <td>None</td>\n",
       "      <td>None</td>\n",
       "      <td>1</td>\n",
       "      <td>2022-11-20</td>\n",
       "      <td>18:11:41</td>\n",
       "      <td>250</td>\n",
       "    </tr>\n",
       "    <tr>\n",
       "      <th>2</th>\n",
       "      <td>2022-11-20T14:01:20.000Z</td>\n",
       "      <td>I m in the control room ☎️</td>\n",
       "      <td>[1594330054724550656]</td>\n",
       "      <td>3206788973</td>\n",
       "      <td>1594330054724550656</td>\n",
       "      <td>0</td>\n",
       "      <td>1</td>\n",
       "      <td>1</td>\n",
       "      <td>0</td>\n",
       "      <td>None</td>\n",
       "      <td>None</td>\n",
       "      <td>0</td>\n",
       "      <td>2022-11-20</td>\n",
       "      <td>14:01:20</td>\n",
       "      <td>27</td>\n",
       "    </tr>\n",
       "    <tr>\n",
       "      <th>3</th>\n",
       "      <td>2022-11-20T13:42:48.000Z</td>\n",
       "      <td>gotta say the sunset in Abu Dhabi is beautiful 😎</td>\n",
       "      <td>[1594325387068248064]</td>\n",
       "      <td>3206788973</td>\n",
       "      <td>1594325387068248064</td>\n",
       "      <td>0</td>\n",
       "      <td>1</td>\n",
       "      <td>8</td>\n",
       "      <td>0</td>\n",
       "      <td>None</td>\n",
       "      <td>None</td>\n",
       "      <td>0</td>\n",
       "      <td>2022-11-20</td>\n",
       "      <td>13:42:48</td>\n",
       "      <td>48</td>\n",
       "    </tr>\n",
       "    <tr>\n",
       "      <th>4</th>\n",
       "      <td>2022-11-20T10:50:32.000Z</td>\n",
       "      <td>The Birmingham one we don t live too far away 😁</td>\n",
       "      <td>[1594282034800693248]</td>\n",
       "      <td>3206788973</td>\n",
       "      <td>1594282034800693248</td>\n",
       "      <td>0</td>\n",
       "      <td>1</td>\n",
       "      <td>1</td>\n",
       "      <td>0</td>\n",
       "      <td>None</td>\n",
       "      <td>None</td>\n",
       "      <td>0</td>\n",
       "      <td>2022-11-20</td>\n",
       "      <td>10:50:32</td>\n",
       "      <td>48</td>\n",
       "    </tr>\n",
       "  </tbody>\n",
       "</table>\n",
       "</div>"
      ],
      "text/plain": [
       "                 created_at  \\\n",
       "0  2022-11-20T18:13:36.000Z   \n",
       "1  2022-11-20T18:11:41.000Z   \n",
       "2  2022-11-20T14:01:20.000Z   \n",
       "3  2022-11-20T13:42:48.000Z   \n",
       "4  2022-11-20T10:50:32.000Z   \n",
       "\n",
       "                                                text edit_history_tweet_ids  \\\n",
       "0  i was diagnosed with BPD at 15 then at 21 recl...  [1594393536899780612]   \n",
       "1  im having a very bad PTSD day  sometimes we ha...  [1594393054001172484]   \n",
       "2                         I m in the control room ☎️  [1594330054724550656]   \n",
       "3   gotta say the sunset in Abu Dhabi is beautiful 😎  [1594325387068248064]   \n",
       "4    The Birmingham one we don t live too far away 😁  [1594282034800693248]   \n",
       "\n",
       "    author_id                   id  public_metrics.retweet_count  \\\n",
       "0  3206788973  1594393536899780612                             0   \n",
       "1  3206788973  1594393054001172484                             1   \n",
       "2  3206788973  1594330054724550656                             0   \n",
       "3  3206788973  1594325387068248064                             0   \n",
       "4  3206788973  1594282034800693248                             0   \n",
       "\n",
       "   public_metrics.reply_count  public_metrics.like_count  \\\n",
       "0                           0                          9   \n",
       "1                           4                         14   \n",
       "2                           1                          1   \n",
       "3                           1                          8   \n",
       "4                           1                          1   \n",
       "\n",
       "   public_metrics.quote_count withheld.copyright withheld.country_codes  \\\n",
       "0                           0               None                   None   \n",
       "1                           0               None                   None   \n",
       "2                           0               None                   None   \n",
       "3                           0               None                   None   \n",
       "4                           0               None                   None   \n",
       "\n",
       "   labels        date      time  tweet_length  \n",
       "0       1  2022-11-20  18:13:36           275  \n",
       "1       1  2022-11-20  18:11:41           250  \n",
       "2       0  2022-11-20  14:01:20            27  \n",
       "3       0  2022-11-20  13:42:48            48  \n",
       "4       0  2022-11-20  10:50:32            48  "
      ]
     },
     "execution_count": 9,
     "metadata": {},
     "output_type": "execute_result"
    }
   ],
   "source": [
    "df_s.head()"
   ]
  },
  {
   "cell_type": "code",
   "execution_count": 10,
   "id": "a0648ae4",
   "metadata": {
    "execution": {
     "iopub.execute_input": "2022-11-27T23:22:00.582640Z",
     "iopub.status.busy": "2022-11-27T23:22:00.581914Z",
     "iopub.status.idle": "2022-11-27T23:22:00.588952Z",
     "shell.execute_reply": "2022-11-27T23:22:00.588033Z"
    },
    "papermill": {
     "duration": 0.027306,
     "end_time": "2022-11-27T23:22:00.591045",
     "exception": false,
     "start_time": "2022-11-27T23:22:00.563739",
     "status": "completed"
    },
    "tags": []
   },
   "outputs": [],
   "source": [
    "def f(x):\n",
    "    if (x > 4) and (x <= 12):\n",
    "        return 1\n",
    "    elif (x > 12) and (x <= 16):\n",
    "        return 2\n",
    "    elif (x > 16) and (x <= 21) :\n",
    "        return 3\n",
    "    elif (x > 21) and (x <= 4):\n",
    "        return 4\n",
    "    \n",
    "    ''' 1 Morning\n",
    "        2 Noon\n",
    "        3 Evening\n",
    "        4 Night'''"
   ]
  },
  {
   "cell_type": "code",
   "execution_count": 11,
   "id": "4b0dc039",
   "metadata": {
    "execution": {
     "iopub.execute_input": "2022-11-27T23:22:00.625894Z",
     "iopub.status.busy": "2022-11-27T23:22:00.625348Z",
     "iopub.status.idle": "2022-11-27T23:22:00.648640Z",
     "shell.execute_reply": "2022-11-27T23:22:00.647667Z"
    },
    "papermill": {
     "duration": 0.042925,
     "end_time": "2022-11-27T23:22:00.650714",
     "exception": false,
     "start_time": "2022-11-27T23:22:00.607789",
     "status": "completed"
    },
    "tags": []
   },
   "outputs": [],
   "source": [
    "df_s['timeofday'] =  pd.to_datetime(df_s['created_at']).dt.hour\n",
    "df_s['timeofday'] = df_s['timeofday'].apply(f)"
   ]
  },
  {
   "cell_type": "code",
   "execution_count": 12,
   "id": "533fe286",
   "metadata": {
    "execution": {
     "iopub.execute_input": "2022-11-27T23:22:00.688053Z",
     "iopub.status.busy": "2022-11-27T23:22:00.687303Z",
     "iopub.status.idle": "2022-11-27T23:22:00.707489Z",
     "shell.execute_reply": "2022-11-27T23:22:00.706420Z"
    },
    "papermill": {
     "duration": 0.040066,
     "end_time": "2022-11-27T23:22:00.709617",
     "exception": false,
     "start_time": "2022-11-27T23:22:00.669551",
     "status": "completed"
    },
    "tags": []
   },
   "outputs": [],
   "source": [
    "df_h['timeofday'] =  pd.to_datetime(df_h['created_at']).dt.hour\n",
    "df_h['timeofday'] = df_h['timeofday'].apply(f)"
   ]
  },
  {
   "cell_type": "code",
   "execution_count": 13,
   "id": "f04ae12c",
   "metadata": {
    "execution": {
     "iopub.execute_input": "2022-11-27T23:22:00.749123Z",
     "iopub.status.busy": "2022-11-27T23:22:00.748306Z",
     "iopub.status.idle": "2022-11-27T23:22:00.758863Z",
     "shell.execute_reply": "2022-11-27T23:22:00.757904Z"
    },
    "papermill": {
     "duration": 0.033573,
     "end_time": "2022-11-27T23:22:00.760917",
     "exception": false,
     "start_time": "2022-11-27T23:22:00.727344",
     "status": "completed"
    },
    "tags": []
   },
   "outputs": [],
   "source": [
    "df_h['tweet_supp'] = (df_h['public_metrics.reply_count']+df_h['public_metrics.like_count']+df_h['public_metrics.quote_count']+1)/(df_h['public_metrics.retweet_count']+2)\n",
    "df_s['tweet_supp'] = (df_s['public_metrics.reply_count']+df_s['public_metrics.like_count']+df_s['public_metrics.quote_count']+1)/(df_s['public_metrics.retweet_count']+2)"
   ]
  },
  {
   "cell_type": "code",
   "execution_count": 14,
   "id": "325e6f68",
   "metadata": {
    "execution": {
     "iopub.execute_input": "2022-11-27T23:22:00.795795Z",
     "iopub.status.busy": "2022-11-27T23:22:00.795024Z",
     "iopub.status.idle": "2022-11-27T23:22:00.810002Z",
     "shell.execute_reply": "2022-11-27T23:22:00.809246Z"
    },
    "papermill": {
     "duration": 0.034823,
     "end_time": "2022-11-27T23:22:00.812080",
     "exception": false,
     "start_time": "2022-11-27T23:22:00.777257",
     "status": "completed"
    },
    "tags": []
   },
   "outputs": [],
   "source": [
    "frames = [df_h, df_s]\n",
    "df_combined = pd.concat(frames)"
   ]
  },
  {
   "cell_type": "code",
   "execution_count": null,
   "id": "68658282",
   "metadata": {
    "papermill": {
     "duration": 0.015874,
     "end_time": "2022-11-27T23:22:00.844314",
     "exception": false,
     "start_time": "2022-11-27T23:22:00.828440",
     "status": "completed"
    },
    "tags": []
   },
   "outputs": [],
   "source": []
  },
  {
   "cell_type": "code",
   "execution_count": 15,
   "id": "2cf18e4c",
   "metadata": {
    "execution": {
     "iopub.execute_input": "2022-11-27T23:22:00.878966Z",
     "iopub.status.busy": "2022-11-27T23:22:00.878063Z",
     "iopub.status.idle": "2022-11-27T23:22:00.892823Z",
     "shell.execute_reply": "2022-11-27T23:22:00.891832Z"
    },
    "papermill": {
     "duration": 0.034299,
     "end_time": "2022-11-27T23:22:00.894983",
     "exception": false,
     "start_time": "2022-11-27T23:22:00.860684",
     "status": "completed"
    },
    "tags": []
   },
   "outputs": [
    {
     "data": {
      "text/plain": [
       "count    23791.000000\n",
       "mean         1.498371\n",
       "std          8.508387\n",
       "min          0.000003\n",
       "25%          0.500000\n",
       "50%          0.500000\n",
       "75%          1.100000\n",
       "max        355.500000\n",
       "Name: tweet_supp, dtype: float64"
      ]
     },
     "execution_count": 15,
     "metadata": {},
     "output_type": "execute_result"
    }
   ],
   "source": [
    "df_combined['tweet_supp'].describe()"
   ]
  },
  {
   "cell_type": "code",
   "execution_count": 16,
   "id": "d7dd23c9",
   "metadata": {
    "execution": {
     "iopub.execute_input": "2022-11-27T23:22:00.929767Z",
     "iopub.status.busy": "2022-11-27T23:22:00.929432Z",
     "iopub.status.idle": "2022-11-27T23:22:00.937598Z",
     "shell.execute_reply": "2022-11-27T23:22:00.936585Z"
    },
    "papermill": {
     "duration": 0.02798,
     "end_time": "2022-11-27T23:22:00.939609",
     "exception": false,
     "start_time": "2022-11-27T23:22:00.911629",
     "status": "completed"
    },
    "tags": []
   },
   "outputs": [
    {
     "data": {
      "text/plain": [
       "10.006757578480647"
      ]
     },
     "execution_count": 16,
     "metadata": {},
     "output_type": "execute_result"
    }
   ],
   "source": [
    "thresh = df_combined['tweet_supp'].mean()+df_combined['tweet_supp'].std()\n",
    "thresh"
   ]
  },
  {
   "cell_type": "code",
   "execution_count": 17,
   "id": "3885ea6a",
   "metadata": {
    "execution": {
     "iopub.execute_input": "2022-11-27T23:22:00.974809Z",
     "iopub.status.busy": "2022-11-27T23:22:00.974244Z",
     "iopub.status.idle": "2022-11-27T23:22:00.979091Z",
     "shell.execute_reply": "2022-11-27T23:22:00.978291Z"
    },
    "papermill": {
     "duration": 0.024819,
     "end_time": "2022-11-27T23:22:00.981152",
     "exception": false,
     "start_time": "2022-11-27T23:22:00.956333",
     "status": "completed"
    },
    "tags": []
   },
   "outputs": [],
   "source": [
    "def c(x):\n",
    "    if x<=2:\n",
    "        return 0\n",
    "    elif x>2:\n",
    "        return 1"
   ]
  },
  {
   "cell_type": "code",
   "execution_count": 18,
   "id": "08b5bf89",
   "metadata": {
    "execution": {
     "iopub.execute_input": "2022-11-27T23:22:01.017487Z",
     "iopub.status.busy": "2022-11-27T23:22:01.016595Z",
     "iopub.status.idle": "2022-11-27T23:22:01.033527Z",
     "shell.execute_reply": "2022-11-27T23:22:01.032676Z"
    },
    "papermill": {
     "duration": 0.037019,
     "end_time": "2022-11-27T23:22:01.035628",
     "exception": false,
     "start_time": "2022-11-27T23:22:00.998609",
     "status": "completed"
    },
    "tags": []
   },
   "outputs": [],
   "source": [
    "df_combined['support_level'] = df_combined['tweet_supp'].apply(c)"
   ]
  },
  {
   "cell_type": "code",
   "execution_count": 19,
   "id": "3ee77b1e",
   "metadata": {
    "execution": {
     "iopub.execute_input": "2022-11-27T23:22:01.075487Z",
     "iopub.status.busy": "2022-11-27T23:22:01.074723Z",
     "iopub.status.idle": "2022-11-27T23:22:01.103384Z",
     "shell.execute_reply": "2022-11-27T23:22:01.099414Z"
    },
    "papermill": {
     "duration": 0.054715,
     "end_time": "2022-11-27T23:22:01.107257",
     "exception": false,
     "start_time": "2022-11-27T23:22:01.052542",
     "status": "completed"
    },
    "tags": []
   },
   "outputs": [
    {
     "data": {
      "text/plain": [
       "<bound method DataFrame.info of                      created_at  \\\n",
       "0      2022-11-12T21:39:37.000Z   \n",
       "1      2022-11-12T21:34:22.000Z   \n",
       "2      2022-11-12T21:28:18.000Z   \n",
       "3      2022-11-12T21:16:26.000Z   \n",
       "4      2022-11-12T02:29:51.000Z   \n",
       "...                         ...   \n",
       "12505  2022-11-15T14:57:27.000Z   \n",
       "12506  2022-11-15T14:56:09.000Z   \n",
       "12507  2022-11-14T20:28:31.000Z   \n",
       "12508  2022-11-14T08:32:26.000Z   \n",
       "12509  2022-11-13T20:55:42.000Z   \n",
       "\n",
       "                                                    text  \\\n",
       "0      Canadian doctors offices will now be using noo...   \n",
       "1      Canadian doctor  Okay  based on your answers I...   \n",
       "2      You WILL get in the pod  you WILL breathe the ...   \n",
       "3                                         DMs are open 💕   \n",
       "4                    NASA wants to send aliens our cocks   \n",
       "...                                                  ...   \n",
       "12505  My favourite add is the maxima one where all t...   \n",
       "12506  Today is a good day bc my guitar class just go...   \n",
       "12507  It is wild how long ive gone without telling p...   \n",
       "12508  The worst thing to ever happen to phones is th...   \n",
       "12509  Why didnt i just change my name to the male ve...   \n",
       "\n",
       "      edit_history_tweet_ids            author_id                   id  \\\n",
       "0      [1591546280706473984]           2236687190  1591546280706473984   \n",
       "1      [1591544958934482944]           2236687190  1591544958934482944   \n",
       "2      [1591543433092792320]           2236687190  1591543433092792320   \n",
       "3      [1591540446907760641]           2236687190  1591540446907760641   \n",
       "4      [1591256932358422529]           2236687190  1591256932358422529   \n",
       "...                      ...                  ...                  ...   \n",
       "12505  [1592532236431429632]  1309235697480540165  1592532236431429632   \n",
       "12506  [1592531909275709445]  1309235697480540165  1592531909275709445   \n",
       "12507  [1592253161901019136]  1309235697480540165  1592253161901019136   \n",
       "12508  [1592072955923959808]  1309235697480540165  1592072955923959808   \n",
       "12509  [1591897617939812353]  1309235697480540165  1591897617939812353   \n",
       "\n",
       "       public_metrics.retweet_count  public_metrics.reply_count  \\\n",
       "0                                 0                           0   \n",
       "1                                 0                           0   \n",
       "2                                 0                           0   \n",
       "3                                 0                           0   \n",
       "4                                 0                           0   \n",
       "...                             ...                         ...   \n",
       "12505                             0                           0   \n",
       "12506                             0                           0   \n",
       "12507                             0                           0   \n",
       "12508                             0                           0   \n",
       "12509                             0                           0   \n",
       "\n",
       "       public_metrics.like_count  public_metrics.quote_count  labels  \\\n",
       "0                              0                           0       0   \n",
       "1                              0                           0       1   \n",
       "2                              0                           0       1   \n",
       "3                              0                           0       0   \n",
       "4                              0                           0       0   \n",
       "...                          ...                         ...     ...   \n",
       "12505                          0                           0       0   \n",
       "12506                          0                           0       0   \n",
       "12507                          0                           0       0   \n",
       "12508                          1                           0       0   \n",
       "12509                          0                           0       0   \n",
       "\n",
       "             date      time  tweet_length  timeofday  tweet_supp  \\\n",
       "0      2022-11-12  21:39:37            92        3.0         0.5   \n",
       "1      2022-11-12  21:34:22           202        3.0         0.5   \n",
       "2      2022-11-12  21:28:18           135        3.0         0.5   \n",
       "3      2022-11-12  21:16:26            14        3.0         0.5   \n",
       "4      2022-11-12  02:29:51            35        NaN         0.5   \n",
       "...           ...       ...           ...        ...         ...   \n",
       "12505  2022-11-15  14:57:27            77        2.0         0.5   \n",
       "12506  2022-11-15  14:56:09            59        2.0         0.5   \n",
       "12507  2022-11-14  20:28:31            94        3.0         0.5   \n",
       "12508  2022-11-14  08:32:26           189        1.0         1.0   \n",
       "12509  2022-11-13  20:55:42           126        3.0         0.5   \n",
       "\n",
       "      withheld.copyright withheld.country_codes  support_level  \n",
       "0                    NaN                    NaN              0  \n",
       "1                    NaN                    NaN              0  \n",
       "2                    NaN                    NaN              0  \n",
       "3                    NaN                    NaN              0  \n",
       "4                    NaN                    NaN              0  \n",
       "...                  ...                    ...            ...  \n",
       "12505               None                   None              0  \n",
       "12506               None                   None              0  \n",
       "12507               None                   None              0  \n",
       "12508               None                   None              0  \n",
       "12509               None                   None              0  \n",
       "\n",
       "[23791 rows x 18 columns]>"
      ]
     },
     "execution_count": 19,
     "metadata": {},
     "output_type": "execute_result"
    }
   ],
   "source": [
    "df_combined.info"
   ]
  },
  {
   "cell_type": "code",
   "execution_count": 20,
   "id": "a2678e2a",
   "metadata": {
    "execution": {
     "iopub.execute_input": "2022-11-27T23:22:01.157440Z",
     "iopub.status.busy": "2022-11-27T23:22:01.157066Z",
     "iopub.status.idle": "2022-11-27T23:22:01.180585Z",
     "shell.execute_reply": "2022-11-27T23:22:01.179711Z"
    },
    "papermill": {
     "duration": 0.049605,
     "end_time": "2022-11-27T23:22:01.183108",
     "exception": false,
     "start_time": "2022-11-27T23:22:01.133503",
     "status": "completed"
    },
    "tags": []
   },
   "outputs": [
    {
     "data": {
      "text/plain": [
       "2324"
      ]
     },
     "execution_count": 20,
     "metadata": {},
     "output_type": "execute_result"
    }
   ],
   "source": [
    "#number of tweets where support is 'high' (likes+quotes+reply/RT)\n",
    "len(df_combined[df_combined['support_level']==1])"
   ]
  },
  {
   "cell_type": "code",
   "execution_count": 21,
   "id": "b0107e31",
   "metadata": {
    "execution": {
     "iopub.execute_input": "2022-11-27T23:22:01.229119Z",
     "iopub.status.busy": "2022-11-27T23:22:01.228332Z",
     "iopub.status.idle": "2022-11-27T23:22:01.238611Z",
     "shell.execute_reply": "2022-11-27T23:22:01.237612Z"
    },
    "papermill": {
     "duration": 0.034956,
     "end_time": "2022-11-27T23:22:01.241348",
     "exception": false,
     "start_time": "2022-11-27T23:22:01.206392",
     "status": "completed"
    },
    "tags": []
   },
   "outputs": [
    {
     "data": {
      "text/plain": [
       "4717"
      ]
     },
     "execution_count": 21,
     "metadata": {},
     "output_type": "execute_result"
    }
   ],
   "source": [
    "#number of tweets where tweet is 'depressive'\n",
    "len(df_combined[df_combined['labels']==1])"
   ]
  },
  {
   "cell_type": "code",
   "execution_count": 22,
   "id": "0dac8d92",
   "metadata": {
    "execution": {
     "iopub.execute_input": "2022-11-27T23:22:01.297653Z",
     "iopub.status.busy": "2022-11-27T23:22:01.296817Z",
     "iopub.status.idle": "2022-11-27T23:22:01.305854Z",
     "shell.execute_reply": "2022-11-27T23:22:01.305031Z"
    },
    "papermill": {
     "duration": 0.03973,
     "end_time": "2022-11-27T23:22:01.308008",
     "exception": false,
     "start_time": "2022-11-27T23:22:01.268278",
     "status": "completed"
    },
    "tags": []
   },
   "outputs": [
    {
     "data": {
      "text/plain": [
       "642"
      ]
     },
     "execution_count": 22,
     "metadata": {},
     "output_type": "execute_result"
    }
   ],
   "source": [
    "#number of tweets where support is 'high' and depressive\n",
    "len(df_combined[(df_combined['support_level']==1) & (df_combined['labels']==1)])"
   ]
  },
  {
   "cell_type": "code",
   "execution_count": 23,
   "id": "7318be4d",
   "metadata": {
    "execution": {
     "iopub.execute_input": "2022-11-27T23:22:01.349568Z",
     "iopub.status.busy": "2022-11-27T23:22:01.348311Z",
     "iopub.status.idle": "2022-11-27T23:22:01.358741Z",
     "shell.execute_reply": "2022-11-27T23:22:01.357660Z"
    },
    "papermill": {
     "duration": 0.035502,
     "end_time": "2022-11-27T23:22:01.360904",
     "exception": false,
     "start_time": "2022-11-27T23:22:01.325402",
     "status": "completed"
    },
    "tags": []
   },
   "outputs": [
    {
     "data": {
      "text/plain": [
       "4075"
      ]
     },
     "execution_count": 23,
     "metadata": {},
     "output_type": "execute_result"
    }
   ],
   "source": [
    "#number of tweets where support is 'low' and depressive\n",
    "len(df_combined[(df_combined['support_level']==0) & (df_combined['labels']==1)])"
   ]
  },
  {
   "cell_type": "code",
   "execution_count": 24,
   "id": "88266639",
   "metadata": {
    "execution": {
     "iopub.execute_input": "2022-11-27T23:22:01.396766Z",
     "iopub.status.busy": "2022-11-27T23:22:01.396413Z",
     "iopub.status.idle": "2022-11-27T23:22:01.400900Z",
     "shell.execute_reply": "2022-11-27T23:22:01.399851Z"
    },
    "papermill": {
     "duration": 0.024895,
     "end_time": "2022-11-27T23:22:01.403155",
     "exception": false,
     "start_time": "2022-11-27T23:22:01.378260",
     "status": "completed"
    },
    "tags": []
   },
   "outputs": [],
   "source": [
    "#wrong method\n",
    "#control_df = df_combined[(df_combined['support_level']==1) & (df_combined['labels']==1)]\n",
    "#treatment = df_combined[(df_combined['support_level']==1) & (df_combined['labels']==1)]x"
   ]
  },
  {
   "cell_type": "code",
   "execution_count": 25,
   "id": "fbf9f6c6",
   "metadata": {
    "execution": {
     "iopub.execute_input": "2022-11-27T23:22:01.443310Z",
     "iopub.status.busy": "2022-11-27T23:22:01.442071Z",
     "iopub.status.idle": "2022-11-27T23:22:01.448722Z",
     "shell.execute_reply": "2022-11-27T23:22:01.446606Z"
    },
    "papermill": {
     "duration": 0.030762,
     "end_time": "2022-11-27T23:22:01.450931",
     "exception": false,
     "start_time": "2022-11-27T23:22:01.420169",
     "status": "completed"
    },
    "tags": []
   },
   "outputs": [],
   "source": [
    "#treatment group-> high support + depressive\n",
    "#control any tweet +less support\n",
    "\n",
    "# OR\n",
    "\n",
    "#but keep the original combined dataset, then for every unique id in treatment group, get a random tweet from treatment group\n",
    "#then calculate the Treatment effect for each unique id by %of depressive tweets before the date of the random tweet - % of depressive tweets after the date of the random tweet\n",
    "#note down the ATE\n",
    "#do matching with attributes like tweet_supp(value), tweet_length, time of day? M distance, PSM\n",
    "#then note down ATE for each.\n",
    "\n"
   ]
  },
  {
   "cell_type": "code",
   "execution_count": 26,
   "id": "803018ee",
   "metadata": {
    "execution": {
     "iopub.execute_input": "2022-11-27T23:22:01.499963Z",
     "iopub.status.busy": "2022-11-27T23:22:01.499303Z",
     "iopub.status.idle": "2022-11-27T23:22:01.514917Z",
     "shell.execute_reply": "2022-11-27T23:22:01.514021Z"
    },
    "papermill": {
     "duration": 0.04136,
     "end_time": "2022-11-27T23:22:01.517111",
     "exception": false,
     "start_time": "2022-11-27T23:22:01.475751",
     "status": "completed"
    },
    "tags": []
   },
   "outputs": [
    {
     "data": {
      "text/plain": [
       "<bound method Series.count of 29                 264143300\n",
       "60                 197139260\n",
       "117               1380245216\n",
       "282               1463673584\n",
       "358      1584234539659902976\n",
       "                ...         \n",
       "12143    1527376739038818304\n",
       "12176     695675851745067008\n",
       "12210             1247796176\n",
       "12258     887026762705756160\n",
       "12458             2566222201\n",
       "Name: author_id, Length: 286, dtype: object>"
      ]
     },
     "execution_count": 26,
     "metadata": {},
     "output_type": "execute_result"
    }
   ],
   "source": [
    "#tweets\n",
    "For_treatment_users = df_combined[(df_combined['support_level']==1) & (df_combined['labels']==1)]\n",
    "\n",
    "treatment_users = dict()\n",
    "For_treatment_users = For_treatment_users.drop_duplicates('author_id', keep='last')\n",
    "\n",
    "#users\n",
    "treatment_users = For_treatment_users['author_id']\n",
    "treatment_users.count"
   ]
  },
  {
   "cell_type": "code",
   "execution_count": 27,
   "id": "f8ac4be4",
   "metadata": {
    "execution": {
     "iopub.execute_input": "2022-11-27T23:22:01.554276Z",
     "iopub.status.busy": "2022-11-27T23:22:01.553922Z",
     "iopub.status.idle": "2022-11-27T23:22:01.558205Z",
     "shell.execute_reply": "2022-11-27T23:22:01.557235Z"
    },
    "papermill": {
     "duration": 0.025488,
     "end_time": "2022-11-27T23:22:01.560325",
     "exception": false,
     "start_time": "2022-11-27T23:22:01.534837",
     "status": "completed"
    },
    "tags": []
   },
   "outputs": [],
   "source": [
    "For_treatment =For_treatment_users"
   ]
  },
  {
   "cell_type": "code",
   "execution_count": 28,
   "id": "48eb8f53",
   "metadata": {
    "execution": {
     "iopub.execute_input": "2022-11-27T23:22:01.596997Z",
     "iopub.status.busy": "2022-11-27T23:22:01.596326Z",
     "iopub.status.idle": "2022-11-27T23:22:01.604633Z",
     "shell.execute_reply": "2022-11-27T23:22:01.603790Z"
    },
    "papermill": {
     "duration": 0.028754,
     "end_time": "2022-11-27T23:22:01.606611",
     "exception": false,
     "start_time": "2022-11-27T23:22:01.577857",
     "status": "completed"
    },
    "tags": []
   },
   "outputs": [
    {
     "data": {
      "text/plain": [
       "23791"
      ]
     },
     "execution_count": 28,
     "metadata": {},
     "output_type": "execute_result"
    }
   ],
   "source": [
    "users1 = df_combined['author_id']\n",
    "users1.count()"
   ]
  },
  {
   "cell_type": "code",
   "execution_count": 29,
   "id": "8cf66a0d",
   "metadata": {
    "execution": {
     "iopub.execute_input": "2022-11-27T23:22:01.643756Z",
     "iopub.status.busy": "2022-11-27T23:22:01.642913Z",
     "iopub.status.idle": "2022-11-27T23:22:01.655379Z",
     "shell.execute_reply": "2022-11-27T23:22:01.654400Z"
    },
    "papermill": {
     "duration": 0.033092,
     "end_time": "2022-11-27T23:22:01.657347",
     "exception": false,
     "start_time": "2022-11-27T23:22:01.624255",
     "status": "completed"
    },
    "tags": []
   },
   "outputs": [
    {
     "data": {
      "text/plain": [
       "870"
      ]
     },
     "execution_count": 29,
     "metadata": {},
     "output_type": "execute_result"
    }
   ],
   "source": [
    "df_users = df_combined.drop_duplicates('author_id', keep='last')\n",
    "users = df_users['author_id']\n",
    "users.count()"
   ]
  },
  {
   "cell_type": "code",
   "execution_count": 30,
   "id": "a7041a5b",
   "metadata": {
    "execution": {
     "iopub.execute_input": "2022-11-27T23:22:01.694813Z",
     "iopub.status.busy": "2022-11-27T23:22:01.694260Z",
     "iopub.status.idle": "2022-11-27T23:22:01.705896Z",
     "shell.execute_reply": "2022-11-27T23:22:01.704916Z"
    },
    "papermill": {
     "duration": 0.032983,
     "end_time": "2022-11-27T23:22:01.708061",
     "exception": false,
     "start_time": "2022-11-27T23:22:01.675078",
     "status": "completed"
    },
    "tags": []
   },
   "outputs": [
    {
     "data": {
      "text/plain": [
       "870"
      ]
     },
     "execution_count": 30,
     "metadata": {},
     "output_type": "execute_result"
    }
   ],
   "source": [
    "df_users = df_combined.drop_duplicates('author_id', keep='last')\n",
    "users = df_users['author_id']\n",
    "users.count()"
   ]
  },
  {
   "cell_type": "code",
   "execution_count": 31,
   "id": "a150060c",
   "metadata": {
    "execution": {
     "iopub.execute_input": "2022-11-27T23:22:01.744523Z",
     "iopub.status.busy": "2022-11-27T23:22:01.743860Z",
     "iopub.status.idle": "2022-11-27T23:22:01.752493Z",
     "shell.execute_reply": "2022-11-27T23:22:01.751641Z"
    },
    "papermill": {
     "duration": 0.029046,
     "end_time": "2022-11-27T23:22:01.754699",
     "exception": false,
     "start_time": "2022-11-27T23:22:01.725653",
     "status": "completed"
    },
    "tags": []
   },
   "outputs": [],
   "source": [
    "#control\n",
    "df_control = df_combined[~users1.isin(treatment_users)]"
   ]
  },
  {
   "cell_type": "code",
   "execution_count": 32,
   "id": "5e77ea19",
   "metadata": {
    "execution": {
     "iopub.execute_input": "2022-11-27T23:22:01.791439Z",
     "iopub.status.busy": "2022-11-27T23:22:01.790810Z",
     "iopub.status.idle": "2022-11-27T23:22:01.802359Z",
     "shell.execute_reply": "2022-11-27T23:22:01.801429Z"
    },
    "papermill": {
     "duration": 0.032298,
     "end_time": "2022-11-27T23:22:01.804352",
     "exception": false,
     "start_time": "2022-11-27T23:22:01.772054",
     "status": "completed"
    },
    "tags": []
   },
   "outputs": [
    {
     "data": {
      "text/plain": [
       "584"
      ]
     },
     "execution_count": 32,
     "metadata": {},
     "output_type": "execute_result"
    }
   ],
   "source": [
    "df_control_users = df_control.drop_duplicates('author_id', keep='last')\n",
    "control_users = df_control_users['author_id']\n",
    "control_users.count()"
   ]
  },
  {
   "cell_type": "code",
   "execution_count": 33,
   "id": "c40f23f1",
   "metadata": {
    "execution": {
     "iopub.execute_input": "2022-11-27T23:22:01.841433Z",
     "iopub.status.busy": "2022-11-27T23:22:01.840824Z",
     "iopub.status.idle": "2022-11-27T23:22:01.854904Z",
     "shell.execute_reply": "2022-11-27T23:22:01.854040Z"
    },
    "papermill": {
     "duration": 0.035157,
     "end_time": "2022-11-27T23:22:01.856907",
     "exception": false,
     "start_time": "2022-11-27T23:22:01.821750",
     "status": "completed"
    },
    "tags": []
   },
   "outputs": [
    {
     "data": {
      "text/html": [
       "<div>\n",
       "<style scoped>\n",
       "    .dataframe tbody tr th:only-of-type {\n",
       "        vertical-align: middle;\n",
       "    }\n",
       "\n",
       "    .dataframe tbody tr th {\n",
       "        vertical-align: top;\n",
       "    }\n",
       "\n",
       "    .dataframe thead th {\n",
       "        text-align: right;\n",
       "    }\n",
       "</style>\n",
       "<table border=\"1\" class=\"dataframe\">\n",
       "  <thead>\n",
       "    <tr style=\"text-align: right;\">\n",
       "      <th></th>\n",
       "      <th>created_at</th>\n",
       "      <th>text</th>\n",
       "      <th>edit_history_tweet_ids</th>\n",
       "      <th>author_id</th>\n",
       "      <th>id</th>\n",
       "      <th>public_metrics.retweet_count</th>\n",
       "      <th>public_metrics.reply_count</th>\n",
       "      <th>public_metrics.like_count</th>\n",
       "      <th>public_metrics.quote_count</th>\n",
       "      <th>labels</th>\n",
       "      <th>date</th>\n",
       "      <th>time</th>\n",
       "      <th>tweet_length</th>\n",
       "      <th>timeofday</th>\n",
       "      <th>tweet_supp</th>\n",
       "      <th>withheld.copyright</th>\n",
       "      <th>withheld.country_codes</th>\n",
       "      <th>support_level</th>\n",
       "    </tr>\n",
       "  </thead>\n",
       "  <tbody>\n",
       "  </tbody>\n",
       "</table>\n",
       "</div>"
      ],
      "text/plain": [
       "Empty DataFrame\n",
       "Columns: [created_at, text, edit_history_tweet_ids, author_id, id, public_metrics.retweet_count, public_metrics.reply_count, public_metrics.like_count, public_metrics.quote_count, labels, date, time, tweet_length, timeofday, tweet_supp, withheld.copyright, withheld.country_codes, support_level]\n",
       "Index: []"
      ]
     },
     "execution_count": 33,
     "metadata": {},
     "output_type": "execute_result"
    }
   ],
   "source": [
    "column_names = list(For_treatment_users.columns.values)\n",
    "random_treatment_tweet=pd.DataFrame(columns= column_names)\n",
    "random_treatment_tweet"
   ]
  },
  {
   "cell_type": "code",
   "execution_count": 34,
   "id": "4c0795b5",
   "metadata": {
    "execution": {
     "iopub.execute_input": "2022-11-27T23:22:01.895016Z",
     "iopub.status.busy": "2022-11-27T23:22:01.894435Z",
     "iopub.status.idle": "2022-11-27T23:22:01.900958Z",
     "shell.execute_reply": "2022-11-27T23:22:01.900113Z"
    },
    "papermill": {
     "duration": 0.027714,
     "end_time": "2022-11-27T23:22:01.903089",
     "exception": false,
     "start_time": "2022-11-27T23:22:01.875375",
     "status": "completed"
    },
    "tags": []
   },
   "outputs": [
    {
     "data": {
      "text/plain": [
       "array(['created_at', 'text', 'edit_history_tweet_ids', 'author_id', 'id',\n",
       "       'public_metrics.retweet_count', 'public_metrics.reply_count',\n",
       "       'public_metrics.like_count', 'public_metrics.quote_count',\n",
       "       'labels', 'date', 'time', 'tweet_length', 'timeofday',\n",
       "       'tweet_supp', 'withheld.copyright', 'withheld.country_codes',\n",
       "       'support_level'], dtype=object)"
      ]
     },
     "execution_count": 34,
     "metadata": {},
     "output_type": "execute_result"
    }
   ],
   "source": [
    "For_treatment_users.columns.values"
   ]
  },
  {
   "cell_type": "code",
   "execution_count": 35,
   "id": "17b75877",
   "metadata": {
    "execution": {
     "iopub.execute_input": "2022-11-27T23:22:01.940682Z",
     "iopub.status.busy": "2022-11-27T23:22:01.939830Z",
     "iopub.status.idle": "2022-11-27T23:22:01.943806Z",
     "shell.execute_reply": "2022-11-27T23:22:01.943067Z"
    },
    "papermill": {
     "duration": 0.024819,
     "end_time": "2022-11-27T23:22:01.945850",
     "exception": false,
     "start_time": "2022-11-27T23:22:01.921031",
     "status": "completed"
    },
    "tags": []
   },
   "outputs": [],
   "source": [
    "#for tu in treatment_users():\n",
    "   # random_treatment_tweet.loc[len(random_treatment_tweet)] = For_treatment_users[For_treatment_users['author_id'] == tu].sample(n=1)"
   ]
  },
  {
   "cell_type": "code",
   "execution_count": 36,
   "id": "83d85934",
   "metadata": {
    "execution": {
     "iopub.execute_input": "2022-11-27T23:22:01.983002Z",
     "iopub.status.busy": "2022-11-27T23:22:01.982699Z",
     "iopub.status.idle": "2022-11-27T23:22:01.986398Z",
     "shell.execute_reply": "2022-11-27T23:22:01.985383Z"
    },
    "papermill": {
     "duration": 0.02453,
     "end_time": "2022-11-27T23:22:01.988342",
     "exception": false,
     "start_time": "2022-11-27T23:22:01.963812",
     "status": "completed"
    },
    "tags": []
   },
   "outputs": [],
   "source": [
    "#random_treatment_tweet"
   ]
  },
  {
   "cell_type": "code",
   "execution_count": 37,
   "id": "a6368b1c",
   "metadata": {
    "execution": {
     "iopub.execute_input": "2022-11-27T23:22:02.026748Z",
     "iopub.status.busy": "2022-11-27T23:22:02.025882Z",
     "iopub.status.idle": "2022-11-27T23:22:02.031192Z",
     "shell.execute_reply": "2022-11-27T23:22:02.030447Z"
    },
    "papermill": {
     "duration": 0.026294,
     "end_time": "2022-11-27T23:22:02.033163",
     "exception": false,
     "start_time": "2022-11-27T23:22:02.006869",
     "status": "completed"
    },
    "tags": []
   },
   "outputs": [],
   "source": [
    "For_treatment_users['Control/treatment'] = 'T'"
   ]
  },
  {
   "cell_type": "code",
   "execution_count": 38,
   "id": "3451ce9a",
   "metadata": {
    "execution": {
     "iopub.execute_input": "2022-11-27T23:22:02.071536Z",
     "iopub.status.busy": "2022-11-27T23:22:02.071200Z",
     "iopub.status.idle": "2022-11-27T23:22:04.546978Z",
     "shell.execute_reply": "2022-11-27T23:22:04.546074Z"
    },
    "papermill": {
     "duration": 2.49842,
     "end_time": "2022-11-27T23:22:04.549509",
     "exception": false,
     "start_time": "2022-11-27T23:22:02.051089",
     "status": "completed"
    },
    "tags": []
   },
   "outputs": [
    {
     "name": "stderr",
     "output_type": "stream",
     "text": [
      "/opt/conda/lib/python3.7/site-packages/ipykernel_launcher.py:25: DeprecationWarning: The default dtype for empty Series will be 'object' instead of 'float64' in a future version. Specify a dtype explicitly to silence this warning.\n"
     ]
    }
   ],
   "source": [
    "import random\n",
    "\n",
    "unique_list = list(df_combined['author_id'].unique())   \n",
    "df_result=pd.DataFrame(columns = ['author_id','Score'])\n",
    "res = []\n",
    "for i in unique_list:\n",
    "    df_i = df_combined[df_combined['author_id'] == i]\n",
    "    l = len(df_i)\n",
    "    r = random.randrange(0, l)\n",
    "    k=0\n",
    "    df_i.reset_index(inplace = True)\n",
    "    try:\n",
    "        while True:\n",
    "            if df_i['labels'][k] != 1 :\n",
    "                k+=1\n",
    "            else:\n",
    "                break\n",
    "    except:\n",
    "        pass\n",
    "    for j in range(r):\n",
    "        k += df_i['labels'][j]\n",
    "    k_aft = 0\n",
    "    for pp in range(r,l):\n",
    "        k_aft += df_i['labels'][pp] \n",
    "    Result_df = pd.Series([])\n",
    "    score = (k+1)/(k_aft+2)\n",
    "    l = [i,score]\n",
    "    res.append(l)"
   ]
  },
  {
   "cell_type": "code",
   "execution_count": 39,
   "id": "b02b208f",
   "metadata": {
    "execution": {
     "iopub.execute_input": "2022-11-27T23:22:04.588415Z",
     "iopub.status.busy": "2022-11-27T23:22:04.587816Z",
     "iopub.status.idle": "2022-11-27T23:22:04.592783Z",
     "shell.execute_reply": "2022-11-27T23:22:04.592077Z"
    },
    "papermill": {
     "duration": 0.026333,
     "end_time": "2022-11-27T23:22:04.594752",
     "exception": false,
     "start_time": "2022-11-27T23:22:04.568419",
     "status": "completed"
    },
    "tags": []
   },
   "outputs": [],
   "source": [
    "df_result = pd.DataFrame (res, columns = ['author_id','Score'])"
   ]
  },
  {
   "cell_type": "code",
   "execution_count": 40,
   "id": "5d10f56b",
   "metadata": {
    "execution": {
     "iopub.execute_input": "2022-11-27T23:22:04.632769Z",
     "iopub.status.busy": "2022-11-27T23:22:04.632414Z",
     "iopub.status.idle": "2022-11-27T23:22:04.637224Z",
     "shell.execute_reply": "2022-11-27T23:22:04.636202Z"
    },
    "papermill": {
     "duration": 0.026201,
     "end_time": "2022-11-27T23:22:04.639345",
     "exception": false,
     "start_time": "2022-11-27T23:22:04.613144",
     "status": "completed"
    },
    "tags": []
   },
   "outputs": [],
   "source": [
    "For_treatment_users['Control/treatment'] = 'T'"
   ]
  },
  {
   "cell_type": "code",
   "execution_count": null,
   "id": "21f7e22f",
   "metadata": {
    "papermill": {
     "duration": 0.01777,
     "end_time": "2022-11-27T23:22:04.675402",
     "exception": false,
     "start_time": "2022-11-27T23:22:04.657632",
     "status": "completed"
    },
    "tags": []
   },
   "outputs": [],
   "source": []
  },
  {
   "cell_type": "code",
   "execution_count": 41,
   "id": "6de26c89",
   "metadata": {
    "execution": {
     "iopub.execute_input": "2022-11-27T23:22:04.713217Z",
     "iopub.status.busy": "2022-11-27T23:22:04.712818Z",
     "iopub.status.idle": "2022-11-27T23:22:04.718051Z",
     "shell.execute_reply": "2022-11-27T23:22:04.717243Z"
    },
    "papermill": {
     "duration": 0.026434,
     "end_time": "2022-11-27T23:22:04.720045",
     "exception": false,
     "start_time": "2022-11-27T23:22:04.693611",
     "status": "completed"
    },
    "tags": []
   },
   "outputs": [],
   "source": [
    "df_result['Control/Treatment'] = 'T'"
   ]
  },
  {
   "cell_type": "code",
   "execution_count": 42,
   "id": "ed974a9d",
   "metadata": {
    "execution": {
     "iopub.execute_input": "2022-11-27T23:22:04.757514Z",
     "iopub.status.busy": "2022-11-27T23:22:04.756945Z",
     "iopub.status.idle": "2022-11-27T23:22:05.080035Z",
     "shell.execute_reply": "2022-11-27T23:22:05.078841Z"
    },
    "papermill": {
     "duration": 0.34483,
     "end_time": "2022-11-27T23:22:05.082789",
     "exception": false,
     "start_time": "2022-11-27T23:22:04.737959",
     "status": "completed"
    },
    "tags": []
   },
   "outputs": [],
   "source": [
    "for i in control_users:\n",
    "    df_result.loc[df_result['author_id'] == i, 'Control/Treatment'] = 'C'"
   ]
  },
  {
   "cell_type": "code",
   "execution_count": 43,
   "id": "5c47d463",
   "metadata": {
    "execution": {
     "iopub.execute_input": "2022-11-27T23:22:05.121731Z",
     "iopub.status.busy": "2022-11-27T23:22:05.121360Z",
     "iopub.status.idle": "2022-11-27T23:22:05.125007Z",
     "shell.execute_reply": "2022-11-27T23:22:05.124208Z"
    },
    "papermill": {
     "duration": 0.025378,
     "end_time": "2022-11-27T23:22:05.127043",
     "exception": false,
     "start_time": "2022-11-27T23:22:05.101665",
     "status": "completed"
    },
    "tags": []
   },
   "outputs": [],
   "source": [
    "# df_result.drop('c/t',inplace = True,axis = 1)"
   ]
  },
  {
   "cell_type": "markdown",
   "id": "c281ffec",
   "metadata": {
    "papermill": {
     "duration": 0.017934,
     "end_time": "2022-11-27T23:22:05.163670",
     "exception": false,
     "start_time": "2022-11-27T23:22:05.145736",
     "status": "completed"
    },
    "tags": []
   },
   "source": [
    "treatment effect per user, and if he/she is in control/treatment group"
   ]
  },
  {
   "cell_type": "code",
   "execution_count": 44,
   "id": "0a33a86d",
   "metadata": {
    "execution": {
     "iopub.execute_input": "2022-11-27T23:22:05.201963Z",
     "iopub.status.busy": "2022-11-27T23:22:05.200873Z",
     "iopub.status.idle": "2022-11-27T23:22:05.213889Z",
     "shell.execute_reply": "2022-11-27T23:22:05.212933Z"
    },
    "papermill": {
     "duration": 0.034362,
     "end_time": "2022-11-27T23:22:05.216057",
     "exception": false,
     "start_time": "2022-11-27T23:22:05.181695",
     "status": "completed"
    },
    "tags": []
   },
   "outputs": [
    {
     "data": {
      "text/html": [
       "<div>\n",
       "<style scoped>\n",
       "    .dataframe tbody tr th:only-of-type {\n",
       "        vertical-align: middle;\n",
       "    }\n",
       "\n",
       "    .dataframe tbody tr th {\n",
       "        vertical-align: top;\n",
       "    }\n",
       "\n",
       "    .dataframe thead th {\n",
       "        text-align: right;\n",
       "    }\n",
       "</style>\n",
       "<table border=\"1\" class=\"dataframe\">\n",
       "  <thead>\n",
       "    <tr style=\"text-align: right;\">\n",
       "      <th></th>\n",
       "      <th>author_id</th>\n",
       "      <th>Score</th>\n",
       "      <th>Control/Treatment</th>\n",
       "    </tr>\n",
       "  </thead>\n",
       "  <tbody>\n",
       "    <tr>\n",
       "      <th>0</th>\n",
       "      <td>2236687190</td>\n",
       "      <td>3.000000</td>\n",
       "      <td>C</td>\n",
       "    </tr>\n",
       "    <tr>\n",
       "      <th>1</th>\n",
       "      <td>264143300</td>\n",
       "      <td>2.666667</td>\n",
       "      <td>T</td>\n",
       "    </tr>\n",
       "    <tr>\n",
       "      <th>2</th>\n",
       "      <td>197139260</td>\n",
       "      <td>1.272727</td>\n",
       "      <td>T</td>\n",
       "    </tr>\n",
       "    <tr>\n",
       "      <th>3</th>\n",
       "      <td>1569437508336816130</td>\n",
       "      <td>2.500000</td>\n",
       "      <td>C</td>\n",
       "    </tr>\n",
       "    <tr>\n",
       "      <th>4</th>\n",
       "      <td>343464115</td>\n",
       "      <td>2.079646</td>\n",
       "      <td>T</td>\n",
       "    </tr>\n",
       "    <tr>\n",
       "      <th>...</th>\n",
       "      <td>...</td>\n",
       "      <td>...</td>\n",
       "      <td>...</td>\n",
       "    </tr>\n",
       "    <tr>\n",
       "      <th>865</th>\n",
       "      <td>1561481190904840196</td>\n",
       "      <td>5.000000</td>\n",
       "      <td>C</td>\n",
       "    </tr>\n",
       "    <tr>\n",
       "      <th>866</th>\n",
       "      <td>147694447</td>\n",
       "      <td>1.000000</td>\n",
       "      <td>C</td>\n",
       "    </tr>\n",
       "    <tr>\n",
       "      <th>867</th>\n",
       "      <td>2566222201</td>\n",
       "      <td>3.500000</td>\n",
       "      <td>T</td>\n",
       "    </tr>\n",
       "    <tr>\n",
       "      <th>868</th>\n",
       "      <td>1519285037069393923</td>\n",
       "      <td>1.750000</td>\n",
       "      <td>C</td>\n",
       "    </tr>\n",
       "    <tr>\n",
       "      <th>869</th>\n",
       "      <td>1309235697480540165</td>\n",
       "      <td>7.000000</td>\n",
       "      <td>C</td>\n",
       "    </tr>\n",
       "  </tbody>\n",
       "</table>\n",
       "<p>870 rows × 3 columns</p>\n",
       "</div>"
      ],
      "text/plain": [
       "               author_id     Score Control/Treatment\n",
       "0             2236687190  3.000000                 C\n",
       "1              264143300  2.666667                 T\n",
       "2              197139260  1.272727                 T\n",
       "3    1569437508336816130  2.500000                 C\n",
       "4              343464115  2.079646                 T\n",
       "..                   ...       ...               ...\n",
       "865  1561481190904840196  5.000000                 C\n",
       "866            147694447  1.000000                 C\n",
       "867           2566222201  3.500000                 T\n",
       "868  1519285037069393923  1.750000                 C\n",
       "869  1309235697480540165  7.000000                 C\n",
       "\n",
       "[870 rows x 3 columns]"
      ]
     },
     "execution_count": 44,
     "metadata": {},
     "output_type": "execute_result"
    }
   ],
   "source": [
    "df_result"
   ]
  },
  {
   "cell_type": "markdown",
   "id": "60f1a29c",
   "metadata": {
    "papermill": {
     "duration": 0.017977,
     "end_time": "2022-11-27T23:22:05.252866",
     "exception": false,
     "start_time": "2022-11-27T23:22:05.234889",
     "status": "completed"
    },
    "tags": []
   },
   "source": [
    "# Average Treatment effect"
   ]
  },
  {
   "cell_type": "code",
   "execution_count": 45,
   "id": "eb8eb74f",
   "metadata": {
    "execution": {
     "iopub.execute_input": "2022-11-27T23:22:05.291456Z",
     "iopub.status.busy": "2022-11-27T23:22:05.291080Z",
     "iopub.status.idle": "2022-11-27T23:22:05.299505Z",
     "shell.execute_reply": "2022-11-27T23:22:05.298669Z"
    },
    "papermill": {
     "duration": 0.030333,
     "end_time": "2022-11-27T23:22:05.301553",
     "exception": false,
     "start_time": "2022-11-27T23:22:05.271220",
     "status": "completed"
    },
    "tags": []
   },
   "outputs": [],
   "source": [
    "ATE = df_result.groupby(['Control/Treatment']).mean()"
   ]
  },
  {
   "cell_type": "code",
   "execution_count": 46,
   "id": "c9a49605",
   "metadata": {
    "execution": {
     "iopub.execute_input": "2022-11-27T23:22:05.340172Z",
     "iopub.status.busy": "2022-11-27T23:22:05.339759Z",
     "iopub.status.idle": "2022-11-27T23:22:05.348638Z",
     "shell.execute_reply": "2022-11-27T23:22:05.347649Z"
    },
    "papermill": {
     "duration": 0.030866,
     "end_time": "2022-11-27T23:22:05.350789",
     "exception": false,
     "start_time": "2022-11-27T23:22:05.319923",
     "status": "completed"
    },
    "tags": []
   },
   "outputs": [
    {
     "data": {
      "text/html": [
       "<div>\n",
       "<style scoped>\n",
       "    .dataframe tbody tr th:only-of-type {\n",
       "        vertical-align: middle;\n",
       "    }\n",
       "\n",
       "    .dataframe tbody tr th {\n",
       "        vertical-align: top;\n",
       "    }\n",
       "\n",
       "    .dataframe thead th {\n",
       "        text-align: right;\n",
       "    }\n",
       "</style>\n",
       "<table border=\"1\" class=\"dataframe\">\n",
       "  <thead>\n",
       "    <tr style=\"text-align: right;\">\n",
       "      <th></th>\n",
       "      <th>Score</th>\n",
       "    </tr>\n",
       "    <tr>\n",
       "      <th>Control/Treatment</th>\n",
       "      <th></th>\n",
       "    </tr>\n",
       "  </thead>\n",
       "  <tbody>\n",
       "    <tr>\n",
       "      <th>C</th>\n",
       "      <td>3.766997</td>\n",
       "    </tr>\n",
       "    <tr>\n",
       "      <th>T</th>\n",
       "      <td>2.511787</td>\n",
       "    </tr>\n",
       "  </tbody>\n",
       "</table>\n",
       "</div>"
      ],
      "text/plain": [
       "                      Score\n",
       "Control/Treatment          \n",
       "C                  3.766997\n",
       "T                  2.511787"
      ]
     },
     "execution_count": 46,
     "metadata": {},
     "output_type": "execute_result"
    }
   ],
   "source": [
    "ATE"
   ]
  },
  {
   "cell_type": "markdown",
   "id": "e9a8c900",
   "metadata": {
    "papermill": {
     "duration": 0.018411,
     "end_time": "2022-11-27T23:22:05.387876",
     "exception": false,
     "start_time": "2022-11-27T23:22:05.369465",
     "status": "completed"
    },
    "tags": []
   },
   "source": [
    "matching"
   ]
  },
  {
   "cell_type": "code",
   "execution_count": 47,
   "id": "bad60ecf",
   "metadata": {
    "execution": {
     "iopub.execute_input": "2022-11-27T23:22:05.426685Z",
     "iopub.status.busy": "2022-11-27T23:22:05.426308Z",
     "iopub.status.idle": "2022-11-27T23:22:05.433716Z",
     "shell.execute_reply": "2022-11-27T23:22:05.433017Z"
    },
    "papermill": {
     "duration": 0.02929,
     "end_time": "2022-11-27T23:22:05.435680",
     "exception": false,
     "start_time": "2022-11-27T23:22:05.406390",
     "status": "completed"
    },
    "tags": []
   },
   "outputs": [
    {
     "data": {
      "text/plain": [
       "0      3.000000\n",
       "1      2.666667\n",
       "2      1.272727\n",
       "3      2.500000\n",
       "4      2.079646\n",
       "         ...   \n",
       "865    5.000000\n",
       "866    1.000000\n",
       "867    3.500000\n",
       "868    1.750000\n",
       "869    7.000000\n",
       "Name: Treatment Effect, Length: 870, dtype: float64"
      ]
     },
     "execution_count": 47,
     "metadata": {},
     "output_type": "execute_result"
    }
   ],
   "source": [
    "df_result['Score'].rename('Treatment Effect',inplace = True)"
   ]
  },
  {
   "cell_type": "code",
   "execution_count": 48,
   "id": "4be2ed30",
   "metadata": {
    "execution": {
     "iopub.execute_input": "2022-11-27T23:22:05.474508Z",
     "iopub.status.busy": "2022-11-27T23:22:05.473994Z",
     "iopub.status.idle": "2022-11-27T23:22:05.490482Z",
     "shell.execute_reply": "2022-11-27T23:22:05.489439Z"
    },
    "papermill": {
     "duration": 0.038483,
     "end_time": "2022-11-27T23:22:05.492744",
     "exception": false,
     "start_time": "2022-11-27T23:22:05.454261",
     "status": "completed"
    },
    "tags": []
   },
   "outputs": [],
   "source": [
    "df_matching = df_combined.groupby(['author_id']).sum()"
   ]
  },
  {
   "cell_type": "code",
   "execution_count": 49,
   "id": "b1a3d9df",
   "metadata": {
    "execution": {
     "iopub.execute_input": "2022-11-27T23:22:05.532052Z",
     "iopub.status.busy": "2022-11-27T23:22:05.531659Z",
     "iopub.status.idle": "2022-11-27T23:22:05.550633Z",
     "shell.execute_reply": "2022-11-27T23:22:05.549539Z"
    },
    "papermill": {
     "duration": 0.040899,
     "end_time": "2022-11-27T23:22:05.552629",
     "exception": false,
     "start_time": "2022-11-27T23:22:05.511730",
     "status": "completed"
    },
    "tags": []
   },
   "outputs": [
    {
     "data": {
      "text/html": [
       "<div>\n",
       "<style scoped>\n",
       "    .dataframe tbody tr th:only-of-type {\n",
       "        vertical-align: middle;\n",
       "    }\n",
       "\n",
       "    .dataframe tbody tr th {\n",
       "        vertical-align: top;\n",
       "    }\n",
       "\n",
       "    .dataframe thead th {\n",
       "        text-align: right;\n",
       "    }\n",
       "</style>\n",
       "<table border=\"1\" class=\"dataframe\">\n",
       "  <thead>\n",
       "    <tr style=\"text-align: right;\">\n",
       "      <th></th>\n",
       "      <th>public_metrics.retweet_count</th>\n",
       "      <th>public_metrics.reply_count</th>\n",
       "      <th>public_metrics.like_count</th>\n",
       "      <th>public_metrics.quote_count</th>\n",
       "      <th>labels</th>\n",
       "      <th>tweet_length</th>\n",
       "      <th>timeofday</th>\n",
       "      <th>tweet_supp</th>\n",
       "      <th>support_level</th>\n",
       "    </tr>\n",
       "    <tr>\n",
       "      <th>author_id</th>\n",
       "      <th></th>\n",
       "      <th></th>\n",
       "      <th></th>\n",
       "      <th></th>\n",
       "      <th></th>\n",
       "      <th></th>\n",
       "      <th></th>\n",
       "      <th></th>\n",
       "      <th></th>\n",
       "    </tr>\n",
       "  </thead>\n",
       "  <tbody>\n",
       "    <tr>\n",
       "      <th>100122237</th>\n",
       "      <td>15455</td>\n",
       "      <td>12</td>\n",
       "      <td>18</td>\n",
       "      <td>0</td>\n",
       "      <td>5</td>\n",
       "      <td>3069</td>\n",
       "      <td>49.0</td>\n",
       "      <td>26.162346</td>\n",
       "      <td>1</td>\n",
       "    </tr>\n",
       "    <tr>\n",
       "      <th>1001921919069782016</th>\n",
       "      <td>27243</td>\n",
       "      <td>5</td>\n",
       "      <td>38</td>\n",
       "      <td>0</td>\n",
       "      <td>4</td>\n",
       "      <td>2121</td>\n",
       "      <td>24.0</td>\n",
       "      <td>28.668001</td>\n",
       "      <td>1</td>\n",
       "    </tr>\n",
       "    <tr>\n",
       "      <th>1004859220431462400</th>\n",
       "      <td>3938</td>\n",
       "      <td>31</td>\n",
       "      <td>22</td>\n",
       "      <td>1</td>\n",
       "      <td>3</td>\n",
       "      <td>3079</td>\n",
       "      <td>46.0</td>\n",
       "      <td>41.500254</td>\n",
       "      <td>4</td>\n",
       "    </tr>\n",
       "    <tr>\n",
       "      <th>1005480194596134912</th>\n",
       "      <td>75658</td>\n",
       "      <td>1</td>\n",
       "      <td>30</td>\n",
       "      <td>0</td>\n",
       "      <td>3</td>\n",
       "      <td>2772</td>\n",
       "      <td>63.0</td>\n",
       "      <td>18.904760</td>\n",
       "      <td>3</td>\n",
       "    </tr>\n",
       "    <tr>\n",
       "      <th>1006521602769481728</th>\n",
       "      <td>3358</td>\n",
       "      <td>228</td>\n",
       "      <td>9493</td>\n",
       "      <td>91</td>\n",
       "      <td>14</td>\n",
       "      <td>5343</td>\n",
       "      <td>70.0</td>\n",
       "      <td>162.736001</td>\n",
       "      <td>24</td>\n",
       "    </tr>\n",
       "    <tr>\n",
       "      <th>...</th>\n",
       "      <td>...</td>\n",
       "      <td>...</td>\n",
       "      <td>...</td>\n",
       "      <td>...</td>\n",
       "      <td>...</td>\n",
       "      <td>...</td>\n",
       "      <td>...</td>\n",
       "      <td>...</td>\n",
       "      <td>...</td>\n",
       "    </tr>\n",
       "    <tr>\n",
       "      <th>984189359795482624</th>\n",
       "      <td>0</td>\n",
       "      <td>0</td>\n",
       "      <td>0</td>\n",
       "      <td>0</td>\n",
       "      <td>2</td>\n",
       "      <td>511</td>\n",
       "      <td>6.0</td>\n",
       "      <td>1.500000</td>\n",
       "      <td>0</td>\n",
       "    </tr>\n",
       "    <tr>\n",
       "      <th>989529295159783424</th>\n",
       "      <td>6</td>\n",
       "      <td>0</td>\n",
       "      <td>11</td>\n",
       "      <td>0</td>\n",
       "      <td>10</td>\n",
       "      <td>4704</td>\n",
       "      <td>63.0</td>\n",
       "      <td>18.916667</td>\n",
       "      <td>0</td>\n",
       "    </tr>\n",
       "    <tr>\n",
       "      <th>989864942</th>\n",
       "      <td>0</td>\n",
       "      <td>0</td>\n",
       "      <td>2</td>\n",
       "      <td>0</td>\n",
       "      <td>6</td>\n",
       "      <td>1204</td>\n",
       "      <td>9.0</td>\n",
       "      <td>4.000000</td>\n",
       "      <td>0</td>\n",
       "    </tr>\n",
       "    <tr>\n",
       "      <th>994137036746567680</th>\n",
       "      <td>17328</td>\n",
       "      <td>8</td>\n",
       "      <td>55</td>\n",
       "      <td>0</td>\n",
       "      <td>2</td>\n",
       "      <td>2742</td>\n",
       "      <td>66.0</td>\n",
       "      <td>40.612579</td>\n",
       "      <td>4</td>\n",
       "    </tr>\n",
       "    <tr>\n",
       "      <th>994220672183349248</th>\n",
       "      <td>2872</td>\n",
       "      <td>15</td>\n",
       "      <td>20</td>\n",
       "      <td>0</td>\n",
       "      <td>3</td>\n",
       "      <td>1880</td>\n",
       "      <td>48.0</td>\n",
       "      <td>31.333682</td>\n",
       "      <td>1</td>\n",
       "    </tr>\n",
       "  </tbody>\n",
       "</table>\n",
       "<p>870 rows × 9 columns</p>\n",
       "</div>"
      ],
      "text/plain": [
       "                     public_metrics.retweet_count  public_metrics.reply_count  \\\n",
       "author_id                                                                       \n",
       "100122237                                   15455                          12   \n",
       "1001921919069782016                         27243                           5   \n",
       "1004859220431462400                          3938                          31   \n",
       "1005480194596134912                         75658                           1   \n",
       "1006521602769481728                          3358                         228   \n",
       "...                                           ...                         ...   \n",
       "984189359795482624                              0                           0   \n",
       "989529295159783424                              6                           0   \n",
       "989864942                                       0                           0   \n",
       "994137036746567680                          17328                           8   \n",
       "994220672183349248                           2872                          15   \n",
       "\n",
       "                     public_metrics.like_count  public_metrics.quote_count  \\\n",
       "author_id                                                                    \n",
       "100122237                                   18                           0   \n",
       "1001921919069782016                         38                           0   \n",
       "1004859220431462400                         22                           1   \n",
       "1005480194596134912                         30                           0   \n",
       "1006521602769481728                       9493                          91   \n",
       "...                                        ...                         ...   \n",
       "984189359795482624                           0                           0   \n",
       "989529295159783424                          11                           0   \n",
       "989864942                                    2                           0   \n",
       "994137036746567680                          55                           0   \n",
       "994220672183349248                          20                           0   \n",
       "\n",
       "                     labels  tweet_length  timeofday  tweet_supp  \\\n",
       "author_id                                                          \n",
       "100122237                 5          3069       49.0   26.162346   \n",
       "1001921919069782016       4          2121       24.0   28.668001   \n",
       "1004859220431462400       3          3079       46.0   41.500254   \n",
       "1005480194596134912       3          2772       63.0   18.904760   \n",
       "1006521602769481728      14          5343       70.0  162.736001   \n",
       "...                     ...           ...        ...         ...   \n",
       "984189359795482624        2           511        6.0    1.500000   \n",
       "989529295159783424       10          4704       63.0   18.916667   \n",
       "989864942                 6          1204        9.0    4.000000   \n",
       "994137036746567680        2          2742       66.0   40.612579   \n",
       "994220672183349248        3          1880       48.0   31.333682   \n",
       "\n",
       "                     support_level  \n",
       "author_id                           \n",
       "100122237                        1  \n",
       "1001921919069782016              1  \n",
       "1004859220431462400              4  \n",
       "1005480194596134912              3  \n",
       "1006521602769481728             24  \n",
       "...                            ...  \n",
       "984189359795482624               0  \n",
       "989529295159783424               0  \n",
       "989864942                        0  \n",
       "994137036746567680               4  \n",
       "994220672183349248               1  \n",
       "\n",
       "[870 rows x 9 columns]"
      ]
     },
     "execution_count": 49,
     "metadata": {},
     "output_type": "execute_result"
    }
   ],
   "source": [
    "df_matching"
   ]
  },
  {
   "cell_type": "code",
   "execution_count": 50,
   "id": "ed63b600",
   "metadata": {
    "execution": {
     "iopub.execute_input": "2022-11-27T23:22:05.593346Z",
     "iopub.status.busy": "2022-11-27T23:22:05.592710Z",
     "iopub.status.idle": "2022-11-27T23:22:05.598046Z",
     "shell.execute_reply": "2022-11-27T23:22:05.597288Z"
    },
    "papermill": {
     "duration": 0.027525,
     "end_time": "2022-11-27T23:22:05.600010",
     "exception": false,
     "start_time": "2022-11-27T23:22:05.572485",
     "status": "completed"
    },
    "tags": []
   },
   "outputs": [],
   "source": [
    "df_result.set_index(['author_id'],inplace = True)"
   ]
  },
  {
   "cell_type": "code",
   "execution_count": 51,
   "id": "42bbd31e",
   "metadata": {
    "execution": {
     "iopub.execute_input": "2022-11-27T23:22:05.639612Z",
     "iopub.status.busy": "2022-11-27T23:22:05.638985Z",
     "iopub.status.idle": "2022-11-27T23:22:05.651701Z",
     "shell.execute_reply": "2022-11-27T23:22:05.650792Z"
    },
    "papermill": {
     "duration": 0.03481,
     "end_time": "2022-11-27T23:22:05.653689",
     "exception": false,
     "start_time": "2022-11-27T23:22:05.618879",
     "status": "completed"
    },
    "tags": []
   },
   "outputs": [
    {
     "data": {
      "text/html": [
       "<div>\n",
       "<style scoped>\n",
       "    .dataframe tbody tr th:only-of-type {\n",
       "        vertical-align: middle;\n",
       "    }\n",
       "\n",
       "    .dataframe tbody tr th {\n",
       "        vertical-align: top;\n",
       "    }\n",
       "\n",
       "    .dataframe thead th {\n",
       "        text-align: right;\n",
       "    }\n",
       "</style>\n",
       "<table border=\"1\" class=\"dataframe\">\n",
       "  <thead>\n",
       "    <tr style=\"text-align: right;\">\n",
       "      <th></th>\n",
       "      <th>Score</th>\n",
       "      <th>Control/Treatment</th>\n",
       "    </tr>\n",
       "    <tr>\n",
       "      <th>author_id</th>\n",
       "      <th></th>\n",
       "      <th></th>\n",
       "    </tr>\n",
       "  </thead>\n",
       "  <tbody>\n",
       "    <tr>\n",
       "      <th>2236687190</th>\n",
       "      <td>3.000000</td>\n",
       "      <td>C</td>\n",
       "    </tr>\n",
       "    <tr>\n",
       "      <th>264143300</th>\n",
       "      <td>2.666667</td>\n",
       "      <td>T</td>\n",
       "    </tr>\n",
       "    <tr>\n",
       "      <th>197139260</th>\n",
       "      <td>1.272727</td>\n",
       "      <td>T</td>\n",
       "    </tr>\n",
       "    <tr>\n",
       "      <th>1569437508336816130</th>\n",
       "      <td>2.500000</td>\n",
       "      <td>C</td>\n",
       "    </tr>\n",
       "    <tr>\n",
       "      <th>343464115</th>\n",
       "      <td>2.079646</td>\n",
       "      <td>T</td>\n",
       "    </tr>\n",
       "    <tr>\n",
       "      <th>...</th>\n",
       "      <td>...</td>\n",
       "      <td>...</td>\n",
       "    </tr>\n",
       "    <tr>\n",
       "      <th>1561481190904840196</th>\n",
       "      <td>5.000000</td>\n",
       "      <td>C</td>\n",
       "    </tr>\n",
       "    <tr>\n",
       "      <th>147694447</th>\n",
       "      <td>1.000000</td>\n",
       "      <td>C</td>\n",
       "    </tr>\n",
       "    <tr>\n",
       "      <th>2566222201</th>\n",
       "      <td>3.500000</td>\n",
       "      <td>T</td>\n",
       "    </tr>\n",
       "    <tr>\n",
       "      <th>1519285037069393923</th>\n",
       "      <td>1.750000</td>\n",
       "      <td>C</td>\n",
       "    </tr>\n",
       "    <tr>\n",
       "      <th>1309235697480540165</th>\n",
       "      <td>7.000000</td>\n",
       "      <td>C</td>\n",
       "    </tr>\n",
       "  </tbody>\n",
       "</table>\n",
       "<p>870 rows × 2 columns</p>\n",
       "</div>"
      ],
      "text/plain": [
       "                        Score Control/Treatment\n",
       "author_id                                      \n",
       "2236687190           3.000000                 C\n",
       "264143300            2.666667                 T\n",
       "197139260            1.272727                 T\n",
       "1569437508336816130  2.500000                 C\n",
       "343464115            2.079646                 T\n",
       "...                       ...               ...\n",
       "1561481190904840196  5.000000                 C\n",
       "147694447            1.000000                 C\n",
       "2566222201           3.500000                 T\n",
       "1519285037069393923  1.750000                 C\n",
       "1309235697480540165  7.000000                 C\n",
       "\n",
       "[870 rows x 2 columns]"
      ]
     },
     "execution_count": 51,
     "metadata": {},
     "output_type": "execute_result"
    }
   ],
   "source": [
    "df_result"
   ]
  },
  {
   "cell_type": "code",
   "execution_count": 52,
   "id": "d7ee0e94",
   "metadata": {
    "execution": {
     "iopub.execute_input": "2022-11-27T23:22:05.695633Z",
     "iopub.status.busy": "2022-11-27T23:22:05.695264Z",
     "iopub.status.idle": "2022-11-27T23:22:05.704112Z",
     "shell.execute_reply": "2022-11-27T23:22:05.703286Z"
    },
    "papermill": {
     "duration": 0.032299,
     "end_time": "2022-11-27T23:22:05.706134",
     "exception": false,
     "start_time": "2022-11-27T23:22:05.673835",
     "status": "completed"
    },
    "tags": []
   },
   "outputs": [],
   "source": [
    "df_match = pd.concat([df_matching,df_result],join= 'inner',axis = 1,)"
   ]
  },
  {
   "cell_type": "code",
   "execution_count": 53,
   "id": "61835a2d",
   "metadata": {
    "execution": {
     "iopub.execute_input": "2022-11-27T23:22:05.746660Z",
     "iopub.status.busy": "2022-11-27T23:22:05.745671Z",
     "iopub.status.idle": "2022-11-27T23:22:05.751480Z",
     "shell.execute_reply": "2022-11-27T23:22:05.750729Z"
    },
    "papermill": {
     "duration": 0.027981,
     "end_time": "2022-11-27T23:22:05.753447",
     "exception": false,
     "start_time": "2022-11-27T23:22:05.725466",
     "status": "completed"
    },
    "tags": []
   },
   "outputs": [],
   "source": [
    "df_match = df_match[['labels','tweet_length','tweet_supp','support_level','Score','Control/Treatment']]"
   ]
  },
  {
   "cell_type": "code",
   "execution_count": 54,
   "id": "dc6461dc",
   "metadata": {
    "execution": {
     "iopub.execute_input": "2022-11-27T23:22:05.793681Z",
     "iopub.status.busy": "2022-11-27T23:22:05.792739Z",
     "iopub.status.idle": "2022-11-27T23:22:05.801142Z",
     "shell.execute_reply": "2022-11-27T23:22:05.800371Z"
    },
    "papermill": {
     "duration": 0.030386,
     "end_time": "2022-11-27T23:22:05.803000",
     "exception": false,
     "start_time": "2022-11-27T23:22:05.772614",
     "status": "completed"
    },
    "tags": []
   },
   "outputs": [],
   "source": [
    "df_match['propensity_score'] = df_match['labels'] + (df_match['tweet_length']/df_match['tweet_length'].mean())\\\n",
    "+ (df_match['tweet_supp']/df_match['tweet_supp'].median())\\\n",
    "+ (df_match['support_level']/df_match['support_level'].median())\\\n",
    "+ (df_match['Score']/df_match['Score'].mean())"
   ]
  },
  {
   "cell_type": "code",
   "execution_count": 55,
   "id": "8d964b6a",
   "metadata": {
    "execution": {
     "iopub.execute_input": "2022-11-27T23:22:05.842939Z",
     "iopub.status.busy": "2022-11-27T23:22:05.842048Z",
     "iopub.status.idle": "2022-11-27T23:22:05.858510Z",
     "shell.execute_reply": "2022-11-27T23:22:05.857538Z"
    },
    "papermill": {
     "duration": 0.038591,
     "end_time": "2022-11-27T23:22:05.860716",
     "exception": false,
     "start_time": "2022-11-27T23:22:05.822125",
     "status": "completed"
    },
    "tags": []
   },
   "outputs": [
    {
     "data": {
      "text/html": [
       "<div>\n",
       "<style scoped>\n",
       "    .dataframe tbody tr th:only-of-type {\n",
       "        vertical-align: middle;\n",
       "    }\n",
       "\n",
       "    .dataframe tbody tr th {\n",
       "        vertical-align: top;\n",
       "    }\n",
       "\n",
       "    .dataframe thead th {\n",
       "        text-align: right;\n",
       "    }\n",
       "</style>\n",
       "<table border=\"1\" class=\"dataframe\">\n",
       "  <thead>\n",
       "    <tr style=\"text-align: right;\">\n",
       "      <th></th>\n",
       "      <th>labels</th>\n",
       "      <th>tweet_length</th>\n",
       "      <th>tweet_supp</th>\n",
       "      <th>support_level</th>\n",
       "      <th>Score</th>\n",
       "      <th>Control/Treatment</th>\n",
       "      <th>propensity_score</th>\n",
       "    </tr>\n",
       "    <tr>\n",
       "      <th>author_id</th>\n",
       "      <th></th>\n",
       "      <th></th>\n",
       "      <th></th>\n",
       "      <th></th>\n",
       "      <th></th>\n",
       "      <th></th>\n",
       "      <th></th>\n",
       "    </tr>\n",
       "  </thead>\n",
       "  <tbody>\n",
       "    <tr>\n",
       "      <th>100122237</th>\n",
       "      <td>5</td>\n",
       "      <td>3069</td>\n",
       "      <td>26.162346</td>\n",
       "      <td>1</td>\n",
       "      <td>2.333333</td>\n",
       "      <td>C</td>\n",
       "      <td>8.993140</td>\n",
       "    </tr>\n",
       "    <tr>\n",
       "      <th>1001921919069782016</th>\n",
       "      <td>4</td>\n",
       "      <td>2121</td>\n",
       "      <td>28.668001</td>\n",
       "      <td>1</td>\n",
       "      <td>0.600000</td>\n",
       "      <td>C</td>\n",
       "      <td>7.207785</td>\n",
       "    </tr>\n",
       "    <tr>\n",
       "      <th>1004859220431462400</th>\n",
       "      <td>3</td>\n",
       "      <td>3079</td>\n",
       "      <td>41.500254</td>\n",
       "      <td>4</td>\n",
       "      <td>2.500000</td>\n",
       "      <td>C</td>\n",
       "      <td>10.685771</td>\n",
       "    </tr>\n",
       "    <tr>\n",
       "      <th>1005480194596134912</th>\n",
       "      <td>3</td>\n",
       "      <td>2772</td>\n",
       "      <td>18.904760</td>\n",
       "      <td>3</td>\n",
       "      <td>3.200000</td>\n",
       "      <td>T</td>\n",
       "      <td>8.832283</td>\n",
       "    </tr>\n",
       "    <tr>\n",
       "      <th>1006521602769481728</th>\n",
       "      <td>14</td>\n",
       "      <td>5343</td>\n",
       "      <td>162.736001</td>\n",
       "      <td>24</td>\n",
       "      <td>1.571429</td>\n",
       "      <td>T</td>\n",
       "      <td>47.350696</td>\n",
       "    </tr>\n",
       "    <tr>\n",
       "      <th>...</th>\n",
       "      <td>...</td>\n",
       "      <td>...</td>\n",
       "      <td>...</td>\n",
       "      <td>...</td>\n",
       "      <td>...</td>\n",
       "      <td>...</td>\n",
       "      <td>...</td>\n",
       "    </tr>\n",
       "    <tr>\n",
       "      <th>984189359795482624</th>\n",
       "      <td>2</td>\n",
       "      <td>511</td>\n",
       "      <td>1.500000</td>\n",
       "      <td>0</td>\n",
       "      <td>0.500000</td>\n",
       "      <td>C</td>\n",
       "      <td>2.412614</td>\n",
       "    </tr>\n",
       "    <tr>\n",
       "      <th>989529295159783424</th>\n",
       "      <td>10</td>\n",
       "      <td>4704</td>\n",
       "      <td>18.916667</td>\n",
       "      <td>0</td>\n",
       "      <td>0.400000</td>\n",
       "      <td>C</td>\n",
       "      <td>12.758224</td>\n",
       "    </tr>\n",
       "    <tr>\n",
       "      <th>989864942</th>\n",
       "      <td>6</td>\n",
       "      <td>1204</td>\n",
       "      <td>4.000000</td>\n",
       "      <td>0</td>\n",
       "      <td>2.000000</td>\n",
       "      <td>C</td>\n",
       "      <td>7.236621</td>\n",
       "    </tr>\n",
       "    <tr>\n",
       "      <th>994137036746567680</th>\n",
       "      <td>2</td>\n",
       "      <td>2742</td>\n",
       "      <td>40.612579</td>\n",
       "      <td>4</td>\n",
       "      <td>7.250000</td>\n",
       "      <td>T</td>\n",
       "      <td>10.932256</td>\n",
       "    </tr>\n",
       "    <tr>\n",
       "      <th>994220672183349248</th>\n",
       "      <td>3</td>\n",
       "      <td>1880</td>\n",
       "      <td>31.333682</td>\n",
       "      <td>1</td>\n",
       "      <td>2.250000</td>\n",
       "      <td>C</td>\n",
       "      <td>6.715914</td>\n",
       "    </tr>\n",
       "  </tbody>\n",
       "</table>\n",
       "<p>870 rows × 7 columns</p>\n",
       "</div>"
      ],
      "text/plain": [
       "                     labels  tweet_length  tweet_supp  support_level  \\\n",
       "author_id                                                              \n",
       "100122237                 5          3069   26.162346              1   \n",
       "1001921919069782016       4          2121   28.668001              1   \n",
       "1004859220431462400       3          3079   41.500254              4   \n",
       "1005480194596134912       3          2772   18.904760              3   \n",
       "1006521602769481728      14          5343  162.736001             24   \n",
       "...                     ...           ...         ...            ...   \n",
       "984189359795482624        2           511    1.500000              0   \n",
       "989529295159783424       10          4704   18.916667              0   \n",
       "989864942                 6          1204    4.000000              0   \n",
       "994137036746567680        2          2742   40.612579              4   \n",
       "994220672183349248        3          1880   31.333682              1   \n",
       "\n",
       "                        Score Control/Treatment  propensity_score  \n",
       "author_id                                                          \n",
       "100122237            2.333333                 C          8.993140  \n",
       "1001921919069782016  0.600000                 C          7.207785  \n",
       "1004859220431462400  2.500000                 C         10.685771  \n",
       "1005480194596134912  3.200000                 T          8.832283  \n",
       "1006521602769481728  1.571429                 T         47.350696  \n",
       "...                       ...               ...               ...  \n",
       "984189359795482624   0.500000                 C          2.412614  \n",
       "989529295159783424   0.400000                 C         12.758224  \n",
       "989864942            2.000000                 C          7.236621  \n",
       "994137036746567680   7.250000                 T         10.932256  \n",
       "994220672183349248   2.250000                 C          6.715914  \n",
       "\n",
       "[870 rows x 7 columns]"
      ]
     },
     "execution_count": 55,
     "metadata": {},
     "output_type": "execute_result"
    }
   ],
   "source": [
    "df_match"
   ]
  },
  {
   "cell_type": "markdown",
   "id": "6e1f8f1b",
   "metadata": {
    "papermill": {
     "duration": 0.019036,
     "end_time": "2022-11-27T23:22:05.899078",
     "exception": false,
     "start_time": "2022-11-27T23:22:05.880042",
     "status": "completed"
    },
    "tags": []
   },
   "source": [
    "\n",
    "\n"
   ]
  },
  {
   "cell_type": "code",
   "execution_count": 56,
   "id": "71aeac06",
   "metadata": {
    "execution": {
     "iopub.execute_input": "2022-11-27T23:22:05.939649Z",
     "iopub.status.busy": "2022-11-27T23:22:05.938661Z",
     "iopub.status.idle": "2022-11-27T23:22:05.944935Z",
     "shell.execute_reply": "2022-11-27T23:22:05.944212Z"
    },
    "papermill": {
     "duration": 0.028479,
     "end_time": "2022-11-27T23:22:05.946865",
     "exception": false,
     "start_time": "2022-11-27T23:22:05.918386",
     "status": "completed"
    },
    "tags": []
   },
   "outputs": [],
   "source": [
    "df_c = df_match[df_match['Control/Treatment'] == 'C']\n",
    "df_t = df_match[df_match['Control/Treatment'] == 'T']\n"
   ]
  },
  {
   "cell_type": "code",
   "execution_count": 57,
   "id": "dc17017b",
   "metadata": {
    "execution": {
     "iopub.execute_input": "2022-11-27T23:22:05.987171Z",
     "iopub.status.busy": "2022-11-27T23:22:05.986459Z",
     "iopub.status.idle": "2022-11-27T23:22:06.195736Z",
     "shell.execute_reply": "2022-11-27T23:22:06.194659Z"
    },
    "papermill": {
     "duration": 0.231986,
     "end_time": "2022-11-27T23:22:06.198069",
     "exception": false,
     "start_time": "2022-11-27T23:22:05.966083",
     "status": "completed"
    },
    "tags": []
   },
   "outputs": [
    {
     "data": {
      "text/plain": [
       "<AxesSubplot:>"
      ]
     },
     "execution_count": 57,
     "metadata": {},
     "output_type": "execute_result"
    },
    {
     "data": {
      "image/png": "[encoded data removed]",
      "text/plain": [
       "<Figure size 432x288 with 1 Axes>"
      ]
     },
     "metadata": {
      "needs_background": "light"
     },
     "output_type": "display_data"
    }
   ],
   "source": [
    "df_c['propensity_score'].hist()"
   ]
  },
  {
   "cell_type": "code",
   "execution_count": 58,
   "id": "95346171",
   "metadata": {
    "execution": {
     "iopub.execute_input": "2022-11-27T23:22:06.240024Z",
     "iopub.status.busy": "2022-11-27T23:22:06.239645Z",
     "iopub.status.idle": "2022-11-27T23:22:06.246369Z",
     "shell.execute_reply": "2022-11-27T23:22:06.245370Z"
    },
    "papermill": {
     "duration": 0.030929,
     "end_time": "2022-11-27T23:22:06.249074",
     "exception": false,
     "start_time": "2022-11-27T23:22:06.218145",
     "status": "completed"
    },
    "tags": []
   },
   "outputs": [
    {
     "name": "stderr",
     "output_type": "stream",
     "text": [
      "/opt/conda/lib/python3.7/site-packages/ipykernel_launcher.py:2: SettingWithCopyWarning: \n",
      "A value is trying to be set on a copy of a slice from a DataFrame.\n",
      "Try using .loc[row_indexer,col_indexer] = value instead\n",
      "\n",
      "See the caveats in the documentation: https://pandas.pydata.org/pandas-docs/stable/user_guide/indexing.html#returning-a-view-versus-a-copy\n",
      "  \n",
      "/opt/conda/lib/python3.7/site-packages/ipykernel_launcher.py:3: SettingWithCopyWarning: \n",
      "A value is trying to be set on a copy of a slice from a DataFrame.\n",
      "Try using .loc[row_indexer,col_indexer] = value instead\n",
      "\n",
      "See the caveats in the documentation: https://pandas.pydata.org/pandas-docs/stable/user_guide/indexing.html#returning-a-view-versus-a-copy\n",
      "  This is separate from the ipykernel package so we can avoid doing imports until\n"
     ]
    }
   ],
   "source": [
    "import numpy as np\n",
    "df_c['propensity_score'] = np.round(df_c['propensity_score'], decimals=0)\n",
    "df_t['propensity_score'] = np.round(df_t['propensity_score'], decimals=0)\n"
   ]
  },
  {
   "cell_type": "code",
   "execution_count": 59,
   "id": "6cb85e68",
   "metadata": {
    "execution": {
     "iopub.execute_input": "2022-11-27T23:22:06.290789Z",
     "iopub.status.busy": "2022-11-27T23:22:06.290438Z",
     "iopub.status.idle": "2022-11-27T23:22:06.347878Z",
     "shell.execute_reply": "2022-11-27T23:22:06.346998Z"
    },
    "papermill": {
     "duration": 0.080935,
     "end_time": "2022-11-27T23:22:06.350166",
     "exception": false,
     "start_time": "2022-11-27T23:22:06.269231",
     "status": "completed"
    },
    "tags": []
   },
   "outputs": [],
   "source": [
    "import itertools \n",
    "\n",
    "#match users is they have same prop score in the control and treatment\n",
    "k = 0\n",
    "mat = []\n",
    "j_temp = []\n",
    "for i,iid in zip(df_c['propensity_score'],df_c.index):\n",
    "    for j,jid in zip(df_t['propensity_score'],df_t.index):\n",
    "        if i == j and jid not in j_temp:\n",
    "            k+=1\n",
    "            j_temp.append(jid)\n",
    "            mat.append([iid,jid])\n",
    "            break\n",
    "            \n",
    "        "
   ]
  },
  {
   "cell_type": "code",
   "execution_count": 60,
   "id": "86b502a3",
   "metadata": {
    "execution": {
     "iopub.execute_input": "2022-11-27T23:22:06.391073Z",
     "iopub.status.busy": "2022-11-27T23:22:06.390733Z",
     "iopub.status.idle": "2022-11-27T23:22:06.395353Z",
     "shell.execute_reply": "2022-11-27T23:22:06.394468Z"
    },
    "papermill": {
     "duration": 0.027379,
     "end_time": "2022-11-27T23:22:06.397414",
     "exception": false,
     "start_time": "2022-11-27T23:22:06.370035",
     "status": "completed"
    },
    "tags": []
   },
   "outputs": [],
   "source": [
    "mat = [j for sub in mat for j in sub] #flatten the array"
   ]
  },
  {
   "cell_type": "code",
   "execution_count": 61,
   "id": "7661fbec",
   "metadata": {
    "execution": {
     "iopub.execute_input": "2022-11-27T23:22:06.438397Z",
     "iopub.status.busy": "2022-11-27T23:22:06.438029Z",
     "iopub.status.idle": "2022-11-27T23:22:06.442338Z",
     "shell.execute_reply": "2022-11-27T23:22:06.441392Z"
    },
    "papermill": {
     "duration": 0.027464,
     "end_time": "2022-11-27T23:22:06.444456",
     "exception": false,
     "start_time": "2022-11-27T23:22:06.416992",
     "status": "completed"
    },
    "tags": []
   },
   "outputs": [],
   "source": [
    "df_match_temp = df_match"
   ]
  },
  {
   "cell_type": "code",
   "execution_count": 62,
   "id": "bf239d35",
   "metadata": {
    "execution": {
     "iopub.execute_input": "2022-11-27T23:22:06.485723Z",
     "iopub.status.busy": "2022-11-27T23:22:06.485110Z",
     "iopub.status.idle": "2022-11-27T23:22:06.758464Z",
     "shell.execute_reply": "2022-11-27T23:22:06.757300Z"
    },
    "papermill": {
     "duration": 0.296919,
     "end_time": "2022-11-27T23:22:06.761061",
     "exception": false,
     "start_time": "2022-11-27T23:22:06.464142",
     "status": "completed"
    },
    "tags": []
   },
   "outputs": [],
   "source": [
    "for i in df_match.index:\n",
    "    if i not in mat:\n",
    "        df_match = df_match.drop(i)\n"
   ]
  },
  {
   "cell_type": "code",
   "execution_count": 63,
   "id": "2b7f11ec",
   "metadata": {
    "execution": {
     "iopub.execute_input": "2022-11-27T23:22:06.802454Z",
     "iopub.status.busy": "2022-11-27T23:22:06.802033Z",
     "iopub.status.idle": "2022-11-27T23:22:06.823091Z",
     "shell.execute_reply": "2022-11-27T23:22:06.822225Z"
    },
    "papermill": {
     "duration": 0.043991,
     "end_time": "2022-11-27T23:22:06.825232",
     "exception": false,
     "start_time": "2022-11-27T23:22:06.781241",
     "status": "completed"
    },
    "tags": []
   },
   "outputs": [
    {
     "data": {
      "text/html": [
       "<div>\n",
       "<style scoped>\n",
       "    .dataframe tbody tr th:only-of-type {\n",
       "        vertical-align: middle;\n",
       "    }\n",
       "\n",
       "    .dataframe tbody tr th {\n",
       "        vertical-align: top;\n",
       "    }\n",
       "\n",
       "    .dataframe thead th {\n",
       "        text-align: right;\n",
       "    }\n",
       "</style>\n",
       "<table border=\"1\" class=\"dataframe\">\n",
       "  <thead>\n",
       "    <tr style=\"text-align: right;\">\n",
       "      <th></th>\n",
       "      <th>labels</th>\n",
       "      <th>tweet_length</th>\n",
       "      <th>tweet_supp</th>\n",
       "      <th>support_level</th>\n",
       "      <th>Score</th>\n",
       "      <th>Control/Treatment</th>\n",
       "      <th>propensity_score</th>\n",
       "    </tr>\n",
       "    <tr>\n",
       "      <th>author_id</th>\n",
       "      <th></th>\n",
       "      <th></th>\n",
       "      <th></th>\n",
       "      <th></th>\n",
       "      <th></th>\n",
       "      <th></th>\n",
       "      <th></th>\n",
       "    </tr>\n",
       "  </thead>\n",
       "  <tbody>\n",
       "    <tr>\n",
       "      <th>100122237</th>\n",
       "      <td>5</td>\n",
       "      <td>3069</td>\n",
       "      <td>26.162346</td>\n",
       "      <td>1</td>\n",
       "      <td>2.333333</td>\n",
       "      <td>C</td>\n",
       "      <td>8.993140</td>\n",
       "    </tr>\n",
       "    <tr>\n",
       "      <th>1001921919069782016</th>\n",
       "      <td>4</td>\n",
       "      <td>2121</td>\n",
       "      <td>28.668001</td>\n",
       "      <td>1</td>\n",
       "      <td>0.600000</td>\n",
       "      <td>C</td>\n",
       "      <td>7.207785</td>\n",
       "    </tr>\n",
       "    <tr>\n",
       "      <th>1004859220431462400</th>\n",
       "      <td>3</td>\n",
       "      <td>3079</td>\n",
       "      <td>41.500254</td>\n",
       "      <td>4</td>\n",
       "      <td>2.500000</td>\n",
       "      <td>C</td>\n",
       "      <td>10.685771</td>\n",
       "    </tr>\n",
       "    <tr>\n",
       "      <th>1005480194596134912</th>\n",
       "      <td>3</td>\n",
       "      <td>2772</td>\n",
       "      <td>18.904760</td>\n",
       "      <td>3</td>\n",
       "      <td>3.200000</td>\n",
       "      <td>T</td>\n",
       "      <td>8.832283</td>\n",
       "    </tr>\n",
       "    <tr>\n",
       "      <th>1007983281281949696</th>\n",
       "      <td>1</td>\n",
       "      <td>879</td>\n",
       "      <td>30.017462</td>\n",
       "      <td>0</td>\n",
       "      <td>7.500000</td>\n",
       "      <td>C</td>\n",
       "      <td>4.832342</td>\n",
       "    </tr>\n",
       "    <tr>\n",
       "      <th>...</th>\n",
       "      <td>...</td>\n",
       "      <td>...</td>\n",
       "      <td>...</td>\n",
       "      <td>...</td>\n",
       "      <td>...</td>\n",
       "      <td>...</td>\n",
       "      <td>...</td>\n",
       "    </tr>\n",
       "    <tr>\n",
       "      <th>944948680150396928</th>\n",
       "      <td>2</td>\n",
       "      <td>1886</td>\n",
       "      <td>87.018790</td>\n",
       "      <td>10</td>\n",
       "      <td>5.750000</td>\n",
       "      <td>C</td>\n",
       "      <td>18.081652</td>\n",
       "    </tr>\n",
       "    <tr>\n",
       "      <th>964053572634718208</th>\n",
       "      <td>4</td>\n",
       "      <td>1821</td>\n",
       "      <td>35.017899</td>\n",
       "      <td>5</td>\n",
       "      <td>1.333333</td>\n",
       "      <td>T</td>\n",
       "      <td>11.572916</td>\n",
       "    </tr>\n",
       "    <tr>\n",
       "      <th>97146266</th>\n",
       "      <td>1</td>\n",
       "      <td>1662</td>\n",
       "      <td>56.666667</td>\n",
       "      <td>3</td>\n",
       "      <td>12.500000</td>\n",
       "      <td>T</td>\n",
       "      <td>10.741285</td>\n",
       "    </tr>\n",
       "    <tr>\n",
       "      <th>978488368727232517</th>\n",
       "      <td>22</td>\n",
       "      <td>4673</td>\n",
       "      <td>15.833333</td>\n",
       "      <td>0</td>\n",
       "      <td>0.250000</td>\n",
       "      <td>C</td>\n",
       "      <td>24.572850</td>\n",
       "    </tr>\n",
       "    <tr>\n",
       "      <th>994137036746567680</th>\n",
       "      <td>2</td>\n",
       "      <td>2742</td>\n",
       "      <td>40.612579</td>\n",
       "      <td>4</td>\n",
       "      <td>7.250000</td>\n",
       "      <td>T</td>\n",
       "      <td>10.932256</td>\n",
       "    </tr>\n",
       "  </tbody>\n",
       "</table>\n",
       "<p>370 rows × 7 columns</p>\n",
       "</div>"
      ],
      "text/plain": [
       "                     labels  tweet_length  tweet_supp  support_level  \\\n",
       "author_id                                                              \n",
       "100122237                 5          3069   26.162346              1   \n",
       "1001921919069782016       4          2121   28.668001              1   \n",
       "1004859220431462400       3          3079   41.500254              4   \n",
       "1005480194596134912       3          2772   18.904760              3   \n",
       "1007983281281949696       1           879   30.017462              0   \n",
       "...                     ...           ...         ...            ...   \n",
       "944948680150396928        2          1886   87.018790             10   \n",
       "964053572634718208        4          1821   35.017899              5   \n",
       "97146266                  1          1662   56.666667              3   \n",
       "978488368727232517       22          4673   15.833333              0   \n",
       "994137036746567680        2          2742   40.612579              4   \n",
       "\n",
       "                         Score Control/Treatment  propensity_score  \n",
       "author_id                                                           \n",
       "100122237             2.333333                 C          8.993140  \n",
       "1001921919069782016   0.600000                 C          7.207785  \n",
       "1004859220431462400   2.500000                 C         10.685771  \n",
       "1005480194596134912   3.200000                 T          8.832283  \n",
       "1007983281281949696   7.500000                 C          4.832342  \n",
       "...                        ...               ...               ...  \n",
       "944948680150396928    5.750000                 C         18.081652  \n",
       "964053572634718208    1.333333                 T         11.572916  \n",
       "97146266             12.500000                 T         10.741285  \n",
       "978488368727232517    0.250000                 C         24.572850  \n",
       "994137036746567680    7.250000                 T         10.932256  \n",
       "\n",
       "[370 rows x 7 columns]"
      ]
     },
     "execution_count": 63,
     "metadata": {},
     "output_type": "execute_result"
    }
   ],
   "source": [
    "df_match"
   ]
  },
  {
   "cell_type": "code",
   "execution_count": 64,
   "id": "bbe09743",
   "metadata": {
    "execution": {
     "iopub.execute_input": "2022-11-27T23:22:06.867775Z",
     "iopub.status.busy": "2022-11-27T23:22:06.867428Z",
     "iopub.status.idle": "2022-11-27T23:22:06.874139Z",
     "shell.execute_reply": "2022-11-27T23:22:06.873156Z"
    },
    "papermill": {
     "duration": 0.030569,
     "end_time": "2022-11-27T23:22:06.876310",
     "exception": false,
     "start_time": "2022-11-27T23:22:06.845741",
     "status": "completed"
    },
    "tags": []
   },
   "outputs": [],
   "source": [
    "ATE_after_matching = df_match.groupby(['Control/Treatment']).mean()"
   ]
  },
  {
   "cell_type": "code",
   "execution_count": 65,
   "id": "e622b87d",
   "metadata": {
    "execution": {
     "iopub.execute_input": "2022-11-27T23:22:06.918768Z",
     "iopub.status.busy": "2022-11-27T23:22:06.918441Z",
     "iopub.status.idle": "2022-11-27T23:22:06.930069Z",
     "shell.execute_reply": "2022-11-27T23:22:06.929099Z"
    },
    "papermill": {
     "duration": 0.03531,
     "end_time": "2022-11-27T23:22:06.932315",
     "exception": false,
     "start_time": "2022-11-27T23:22:06.897005",
     "status": "completed"
    },
    "tags": []
   },
   "outputs": [
    {
     "data": {
      "text/html": [
       "<div>\n",
       "<style scoped>\n",
       "    .dataframe tbody tr th:only-of-type {\n",
       "        vertical-align: middle;\n",
       "    }\n",
       "\n",
       "    .dataframe tbody tr th {\n",
       "        vertical-align: top;\n",
       "    }\n",
       "\n",
       "    .dataframe thead th {\n",
       "        text-align: right;\n",
       "    }\n",
       "</style>\n",
       "<table border=\"1\" class=\"dataframe\">\n",
       "  <thead>\n",
       "    <tr style=\"text-align: right;\">\n",
       "      <th></th>\n",
       "      <th>labels</th>\n",
       "      <th>tweet_length</th>\n",
       "      <th>tweet_supp</th>\n",
       "      <th>support_level</th>\n",
       "      <th>Score</th>\n",
       "      <th>propensity_score</th>\n",
       "    </tr>\n",
       "    <tr>\n",
       "      <th>Control/Treatment</th>\n",
       "      <th></th>\n",
       "      <th></th>\n",
       "      <th></th>\n",
       "      <th></th>\n",
       "      <th></th>\n",
       "      <th></th>\n",
       "    </tr>\n",
       "  </thead>\n",
       "  <tbody>\n",
       "    <tr>\n",
       "      <th>C</th>\n",
       "      <td>6.454054</td>\n",
       "      <td>2920.324324</td>\n",
       "      <td>35.737642</td>\n",
       "      <td>2.059459</td>\n",
       "      <td>4.441152</td>\n",
       "      <td>12.475463</td>\n",
       "    </tr>\n",
       "    <tr>\n",
       "      <th>T</th>\n",
       "      <td>5.189189</td>\n",
       "      <td>2325.837838</td>\n",
       "      <td>39.581430</td>\n",
       "      <td>3.918919</td>\n",
       "      <td>2.690980</td>\n",
       "      <td>12.474527</td>\n",
       "    </tr>\n",
       "  </tbody>\n",
       "</table>\n",
       "</div>"
      ],
      "text/plain": [
       "                     labels  tweet_length  tweet_supp  support_level  \\\n",
       "Control/Treatment                                                      \n",
       "C                  6.454054   2920.324324   35.737642       2.059459   \n",
       "T                  5.189189   2325.837838   39.581430       3.918919   \n",
       "\n",
       "                      Score  propensity_score  \n",
       "Control/Treatment                              \n",
       "C                  4.441152         12.475463  \n",
       "T                  2.690980         12.474527  "
      ]
     },
     "execution_count": 65,
     "metadata": {},
     "output_type": "execute_result"
    }
   ],
   "source": [
    "ATE_after_matching ## score is the ATE after matching"
   ]
  }
 ],
 "metadata": {
  "kernelspec": {
   "display_name": "Python 3",
   "language": "python",
   "name": "python3"
  },
  "language_info": {
   "codemirror_mode": {
    "name": "ipython",
    "version": 3
   },
   "file_extension": ".py",
   "mimetype": "text/x-python",
   "name": "python",
   "nbconvert_exporter": "python",
   "pygments_lexer": "ipython3",
   "version": "3.7.12"
  },
  "papermill": {
   "default_parameters": {},
   "duration": 15.583485,
   "end_time": "2022-11-27T23:22:07.472656",
   "environment_variables": {},
   "exception": null,
   "input_path": "__notebook__.ipynb",
   "output_path": "__notebook__.ipynb",
   "parameters": {},
   "start_time": "2022-11-27T23:21:51.889171",
   "version": "2.3.4"
  }
 },
 "nbformat": 4,
 "nbformat_minor": 5
}
